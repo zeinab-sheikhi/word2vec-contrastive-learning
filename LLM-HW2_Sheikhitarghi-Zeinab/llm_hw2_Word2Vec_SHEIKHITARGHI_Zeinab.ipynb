{
  "cells": [
    {
      "cell_type": "markdown",
      "metadata": {
        "id": "3hZ09icU3oV7"
      },
      "source": [
        "## LLM: HW2\n",
        "### Zeinab Sheikhitarghi"
      ]
    },
    {
      "cell_type": "code",
      "execution_count": null,
      "metadata": {
        "colab": {
          "base_uri": "https://localhost:8080/"
        },
        "execution": {
          "iopub.execute_input": "2024-10-16T17:10:49.321170Z",
          "iopub.status.busy": "2024-10-16T17:10:49.320786Z",
          "iopub.status.idle": "2024-10-16T17:11:02.864367Z",
          "shell.execute_reply": "2024-10-16T17:11:02.863064Z",
          "shell.execute_reply.started": "2024-10-16T17:10:49.321131Z"
        },
        "id": "pkGZayLipDQq",
        "outputId": "43095ddc-97f2-4069-eb94-7cd62cab3592",
        "trusted": true
      },
      "outputs": [
        {
          "name": "stdout",
          "output_type": "stream",
          "text": [
            "Requirement already satisfied: transformers in /opt/conda/lib/python3.10/site-packages (4.45.1)\n",
            "Requirement already satisfied: datasets in /opt/conda/lib/python3.10/site-packages (3.0.1)\n",
            "Requirement already satisfied: filelock in /opt/conda/lib/python3.10/site-packages (from transformers) (3.15.1)\n",
            "Requirement already satisfied: huggingface-hub<1.0,>=0.23.2 in /opt/conda/lib/python3.10/site-packages (from transformers) (0.25.1)\n",
            "Requirement already satisfied: numpy>=1.17 in /opt/conda/lib/python3.10/site-packages (from transformers) (1.26.4)\n",
            "Requirement already satisfied: packaging>=20.0 in /opt/conda/lib/python3.10/site-packages (from transformers) (21.3)\n",
            "Requirement already satisfied: pyyaml>=5.1 in /opt/conda/lib/python3.10/site-packages (from transformers) (6.0.2)\n",
            "Requirement already satisfied: regex!=2019.12.17 in /opt/conda/lib/python3.10/site-packages (from transformers) (2024.5.15)\n",
            "Requirement already satisfied: requests in /opt/conda/lib/python3.10/site-packages (from transformers) (2.32.3)\n",
            "Requirement already satisfied: safetensors>=0.4.1 in /opt/conda/lib/python3.10/site-packages (from transformers) (0.4.5)\n",
            "Requirement already satisfied: tokenizers<0.21,>=0.20 in /opt/conda/lib/python3.10/site-packages (from transformers) (0.20.0)\n",
            "Requirement already satisfied: tqdm>=4.27 in /opt/conda/lib/python3.10/site-packages (from transformers) (4.66.4)\n",
            "Requirement already satisfied: pyarrow>=15.0.0 in /opt/conda/lib/python3.10/site-packages (from datasets) (16.1.0)\n",
            "Requirement already satisfied: dill<0.3.9,>=0.3.0 in /opt/conda/lib/python3.10/site-packages (from datasets) (0.3.8)\n",
            "Requirement already satisfied: pandas in /opt/conda/lib/python3.10/site-packages (from datasets) (2.2.2)\n",
            "Requirement already satisfied: xxhash in /opt/conda/lib/python3.10/site-packages (from datasets) (3.4.1)\n",
            "Requirement already satisfied: multiprocess in /opt/conda/lib/python3.10/site-packages (from datasets) (0.70.16)\n",
            "Requirement already satisfied: fsspec<=2024.6.1,>=2023.1.0 in /opt/conda/lib/python3.10/site-packages (from fsspec[http]<=2024.6.1,>=2023.1.0->datasets) (2024.6.1)\n",
            "Requirement already satisfied: aiohttp in /opt/conda/lib/python3.10/site-packages (from datasets) (3.9.5)\n",
            "Requirement already satisfied: aiosignal>=1.1.2 in /opt/conda/lib/python3.10/site-packages (from aiohttp->datasets) (1.3.1)\n",
            "Requirement already satisfied: attrs>=17.3.0 in /opt/conda/lib/python3.10/site-packages (from aiohttp->datasets) (23.2.0)\n",
            "Requirement already satisfied: frozenlist>=1.1.1 in /opt/conda/lib/python3.10/site-packages (from aiohttp->datasets) (1.4.1)\n",
            "Requirement already satisfied: multidict<7.0,>=4.5 in /opt/conda/lib/python3.10/site-packages (from aiohttp->datasets) (6.0.5)\n",
            "Requirement already satisfied: yarl<2.0,>=1.0 in /opt/conda/lib/python3.10/site-packages (from aiohttp->datasets) (1.9.4)\n",
            "Requirement already satisfied: async-timeout<5.0,>=4.0 in /opt/conda/lib/python3.10/site-packages (from aiohttp->datasets) (4.0.3)\n",
            "Requirement already satisfied: typing-extensions>=3.7.4.3 in /opt/conda/lib/python3.10/site-packages (from huggingface-hub<1.0,>=0.23.2->transformers) (4.12.2)\n",
            "Requirement already satisfied: pyparsing!=3.0.5,>=2.0.2 in /opt/conda/lib/python3.10/site-packages (from packaging>=20.0->transformers) (3.1.2)\n",
            "Requirement already satisfied: charset-normalizer<4,>=2 in /opt/conda/lib/python3.10/site-packages (from requests->transformers) (3.3.2)\n",
            "Requirement already satisfied: idna<4,>=2.5 in /opt/conda/lib/python3.10/site-packages (from requests->transformers) (3.7)\n",
            "Requirement already satisfied: urllib3<3,>=1.21.1 in /opt/conda/lib/python3.10/site-packages (from requests->transformers) (1.26.18)\n",
            "Requirement already satisfied: certifi>=2017.4.17 in /opt/conda/lib/python3.10/site-packages (from requests->transformers) (2024.8.30)\n",
            "Requirement already satisfied: python-dateutil>=2.8.2 in /opt/conda/lib/python3.10/site-packages (from pandas->datasets) (2.9.0.post0)\n",
            "Requirement already satisfied: pytz>=2020.1 in /opt/conda/lib/python3.10/site-packages (from pandas->datasets) (2024.1)\n",
            "Requirement already satisfied: tzdata>=2022.7 in /opt/conda/lib/python3.10/site-packages (from pandas->datasets) (2024.1)\n",
            "Requirement already satisfied: six>=1.5 in /opt/conda/lib/python3.10/site-packages (from python-dateutil>=2.8.2->pandas->datasets) (1.16.0)\n"
          ]
        }
      ],
      "source": [
        "!pip install transformers datasets"
      ]
    },
    {
      "cell_type": "code",
      "execution_count": null,
      "metadata": {
        "execution": {
          "iopub.execute_input": "2024-10-16T17:11:02.867045Z",
          "iopub.status.busy": "2024-10-16T17:11:02.866685Z",
          "iopub.status.idle": "2024-10-16T17:11:02.873388Z",
          "shell.execute_reply": "2024-10-16T17:11:02.872394Z",
          "shell.execute_reply.started": "2024-10-16T17:11:02.867006Z"
        },
        "id": "TZTC_-ccIKqK",
        "trusted": true
      },
      "outputs": [],
      "source": [
        "import warnings\n",
        "\n",
        "warnings.filterwarnings(\"ignore\", category=UserWarning, module=\"transformers\")\n",
        "warnings.simplefilter(action='ignore', category=FutureWarning)\n",
        "warnings.simplefilter(action='ignore', category=UserWarning)"
      ]
    },
    {
      "cell_type": "code",
      "execution_count": null,
      "metadata": {
        "execution": {
          "iopub.execute_input": "2024-10-16T22:05:40.311361Z",
          "iopub.status.busy": "2024-10-16T22:05:40.310950Z",
          "iopub.status.idle": "2024-10-16T22:05:40.318212Z",
          "shell.execute_reply": "2024-10-16T22:05:40.316904Z",
          "shell.execute_reply.started": "2024-10-16T22:05:40.311323Z"
        },
        "id": "jThbBXCIoriz",
        "trusted": true
      },
      "outputs": [],
      "source": [
        "import os\n",
        "import torch\n",
        "import torch.nn as nn\n",
        "import torch.optim as optim\n",
        "import torch.nn.functional as F\n",
        "import matplotlib.pyplot as plt\n",
        "import numpy as np\n",
        "\n",
        "from torch.utils.data import DataLoader\n",
        "from datasets import load_dataset\n",
        "from transformers import BertTokenizer\n",
        "from typing import List, Tuple, Dict\n",
        "from scipy.spatial.distance import cosine\n",
        "from sklearn.manifold import TSNE\n",
        "from sklearn.preprocessing import normalize"
      ]
    },
    {
      "cell_type": "markdown",
      "metadata": {
        "id": "6PUTz5ntCs51"
      },
      "source": [
        "# 3.1 Data preprocessing"
      ]
    },
    {
      "cell_type": "code",
      "execution_count": null,
      "metadata": {
        "execution": {
          "iopub.execute_input": "2024-10-16T17:11:08.567693Z",
          "iopub.status.busy": "2024-10-16T17:11:08.567086Z",
          "iopub.status.idle": "2024-10-16T17:11:08.589740Z",
          "shell.execute_reply": "2024-10-16T17:11:08.588645Z",
          "shell.execute_reply.started": "2024-10-16T17:11:08.567650Z"
        },
        "id": "FgCzmynivsOp",
        "trusted": true
      },
      "outputs": [],
      "source": [
        "class DataLoaderWrapper:\n",
        "    \"\"\"\n",
        "        A wrapper class for loading and preprocessing the IMDB dataset for word context modeling.\n",
        "        This class handles the loading of the dataset, tokenization, and extraction of word-context pairs\n",
        "        for training a Word2Vec model. It prepares the data in a format suitable for training with specified\n",
        "        parameters such as the number of samples and the context window radius.\n",
        "    \"\"\"\n",
        "\n",
        "    def __init__(self, dataset_name=\"scikit-learn/imdb\", tokenizer_name=\"bert-base-uncased\", max_length=256, n_samples=5000, batch_size=32, radius=5, K=10):\n",
        "        self.tokenizer = BertTokenizer.from_pretrained(tokenizer_name, do_lower_case=True)\n",
        "        self.device = torch.device(\"cuda\" if torch.cuda.is_available() else \"cpu\")\n",
        "        self.dataset = load_dataset(dataset_name, split=\"train\")\n",
        "        self.max_length = max_length\n",
        "        self.n_samples = n_samples\n",
        "        self.batch_size = batch_size\n",
        "        self.radius = radius\n",
        "        self.K = K\n",
        "        self.train_loader, self.valid_loader = self.prepare_data()\n",
        "\n",
        "    def preprocessing_fn(self, x):\n",
        "        \"\"\" Tokenizes the input text and converts sentiment labels.\"\"\"\n",
        "        x[\"review_ids\"] = self.tokenizer(\n",
        "                x[\"review\"],\n",
        "                add_special_tokens=False,\n",
        "                truncation=True,\n",
        "                max_length=self.max_length,\n",
        "                padding=False,\n",
        "                return_attention_mask=False,\n",
        "            )[\"input_ids\"]\n",
        "        x[\"label\"] = 0 if x[\"sentiment\"] == \"negative\" else 1\n",
        "        return x\n",
        "\n",
        "    def extract_words_contexts(self, text, radius):\n",
        "        \"\"\"\n",
        "            Extracts words and their surrounding contexts based on the specified radius.\n",
        "        \"\"\"\n",
        "        window_size = 2 * radius\n",
        "        context_ids = []\n",
        "\n",
        "        for i, _ in enumerate(text):\n",
        "            pos_context_ids = []\n",
        "            start = i - radius\n",
        "            end = i + radius + 1\n",
        "\n",
        "            for j in range(start, end):\n",
        "                if j < 0:\n",
        "                    pos_context_ids.append(0)  # pad the left of the sequence\n",
        "                    continue\n",
        "\n",
        "                if j >= len(text):\n",
        "                    pos_context_ids.append(0)  # pad the left of the sequence\n",
        "                    continue\n",
        "\n",
        "                elif i != j:\n",
        "                    pos_context_ids.append(text[j])\n",
        "\n",
        "            if len(pos_context_ids) == window_size:\n",
        "                context_ids.append(pos_context_ids)\n",
        "\n",
        "        return text, context_ids\n",
        "\n",
        "    def flatten_dataset_to_list(self, ds):\n",
        "        \"\"\"\n",
        "            Flattens the dataset to a list of words and their corresponding contexts.\n",
        "        \"\"\"\n",
        "        mapped_dataset = ds.map(\n",
        "              lambda doc: {\n",
        "                  \"words\": (result := self.extract_words_contexts(doc[\"review_ids\"], self.radius))[0],\n",
        "                  \"contexts\": result[1],\n",
        "              },\n",
        "              remove_columns=[\"review_ids\"],\n",
        "          )\n",
        "\n",
        "        all_words = sum(mapped_dataset[\"words\"], [])\n",
        "        all_contexts = sum(mapped_dataset[\"contexts\"], [])\n",
        "        print(\"DataSet Flattened\\n\")\n",
        "        return all_words, all_contexts\n",
        "\n",
        "    def prepare_data(self):\n",
        "        \"\"\"\n",
        "            Prepares the training and validation data loaders.\n",
        "            This method shuffles the dataset, selects a subset of samples, tokenizes the data, and splits it\n",
        "            into training and validation sets.\n",
        "        \"\"\"\n",
        "        columns_to_remove = self.dataset.column_names\n",
        "        shuffled_dataset = self.dataset.shuffle(seed=42)\n",
        "        selected_dataset = shuffled_dataset.select(range(self.n_samples))\n",
        "        tokenized_dataset = selected_dataset.map(lambda x: self.preprocessing_fn(x))\n",
        "        tokenized_dataset = tokenized_dataset.remove_columns(column_names=columns_to_remove)\n",
        "        dataset_split = tokenized_dataset.train_test_split(test_size=0.2)\n",
        "\n",
        "        train_words, train_contexts = self.flatten_dataset_to_list(ds=dataset_split['train'])\n",
        "        valid_words, valid_contexts = self.flatten_dataset_to_list(ds=dataset_split['test'])\n",
        "\n",
        "        train_set = IMDBWordContextDataset(words=train_words, contexts=train_contexts)\n",
        "        valid_set = IMDBWordContextDataset(words=valid_words, contexts=valid_contexts)\n",
        "\n",
        "        train_loader = DataLoader(\n",
        "          train_set, batch_size=self.batch_size, shuffle=True, collate_fn=self.collate_fn\n",
        "        )\n",
        "        valid_loader = DataLoader(\n",
        "          valid_set, batch_size=self.batch_size, shuffle=False, collate_fn=self.collate_fn\n",
        "        )\n",
        "\n",
        "        return train_loader, valid_loader\n",
        "\n",
        "    def collate_fn(self, batch):\n",
        "        word_ids, pos_context_ids = zip(*batch)\n",
        "        neg_context_ids = torch.randint(0, self.tokenizer.vocab_size, (len(batch), 2 * self.K * self.radius), dtype=torch.long)\n",
        "        return {\n",
        "              \"word_id\": torch.tensor(word_ids, dtype=torch.long).to(self.device),\n",
        "              \"positive_context_ids\": torch.stack([torch.tensor(ctx, dtype=torch.long) for ctx in pos_context_ids]).to(self.device),\n",
        "              \"negative_context_ids\": neg_context_ids.to(self.device),\n",
        "        }\n"
      ]
    },
    {
      "cell_type": "code",
      "execution_count": null,
      "metadata": {
        "execution": {
          "iopub.execute_input": "2024-10-16T17:11:08.591383Z",
          "iopub.status.busy": "2024-10-16T17:11:08.591050Z",
          "iopub.status.idle": "2024-10-16T17:11:08.604070Z",
          "shell.execute_reply": "2024-10-16T17:11:08.603002Z",
          "shell.execute_reply.started": "2024-10-16T17:11:08.591348Z"
        },
        "id": "t3ZLUAMtzusr",
        "trusted": true
      },
      "outputs": [],
      "source": [
        "class IMDBWordContextDataset(torch.utils.data.Dataset):\n",
        "\n",
        "    def __init__(self, words, contexts):\n",
        "        self.words = words\n",
        "        self.contexts = contexts\n",
        "\n",
        "    def __len__(self):\n",
        "        return len(self.words)\n",
        "\n",
        "    def __getitem__(self, idx: int):\n",
        "        return self.words[idx], self.contexts[idx]"
      ]
    },
    {
      "cell_type": "markdown",
      "metadata": {
        "id": "xSplHGKCCxaW"
      },
      "source": [
        "# 3.2 Define the Word2Vec Model"
      ]
    },
    {
      "cell_type": "code",
      "execution_count": null,
      "metadata": {
        "execution": {
          "iopub.execute_input": "2024-10-16T17:11:29.573902Z",
          "iopub.status.busy": "2024-10-16T17:11:29.573481Z",
          "iopub.status.idle": "2024-10-16T17:11:29.584413Z",
          "shell.execute_reply": "2024-10-16T17:11:29.583342Z",
          "shell.execute_reply.started": "2024-10-16T17:11:29.573859Z"
        },
        "id": "vszKi3OU0m2k",
        "trusted": true
      },
      "outputs": [],
      "source": [
        "class Word2Vec(nn.Module):\n",
        "    \"\"\"\n",
        "        This model utilizes two separate embedding layers: one for the target words and another for the\n",
        "        context words. The forward method computes the similarity scores between the target words and their corresponding positive and\n",
        "        negative context words.\n",
        "\n",
        "    \"\"\"\n",
        "\n",
        "    def __init__(self, vocab_size, embedding_dim, padding_idx=0):\n",
        "        super(Word2Vec, self).__init__()\n",
        "        self.word_embeddings = nn.Embedding(vocab_size, embedding_dim, padding_idx=padding_idx)\n",
        "        self.context_embeddings = nn.Embedding(vocab_size, embedding_dim, padding_idx=padding_idx)\n",
        "\n",
        "    def forward(self, word_ids, positive_context_ids, negative_context_ids):\n",
        "        w = self.word_embeddings(word_ids)  # shape: (batch_size, embedding_dim)\n",
        "        C_plus = self.context_embeddings(positive_context_ids)  # shape: (batch_size, 2R, embedding_dim)\n",
        "        C_minus = self.context_embeddings(negative_context_ids)  # shape: (batch_size, 2KR, embedding_dim)\n",
        "\n",
        "        pos_similarity_scores = torch.sigmoid((C_plus * w.unsqueeze(1)).sum(dim=2))  # shape: (batch_size, 2R)\n",
        "        neg_similarity_scores = torch.sigmoid(-(C_minus * w.unsqueeze(1)).sum(dim=2))  # shape: (batch_size, 2KR)\n",
        "\n",
        "        return pos_similarity_scores, neg_similarity_scores\n",
        "\n",
        "    def contrastive_loss(self, pos_scores, neg_scores):\n",
        "        pos_labels = torch.ones_like(pos_scores)\n",
        "        neg_labels = torch.zeros_like(neg_scores)\n",
        "\n",
        "        pos_loss = -torch.mean(pos_labels * torch.log(pos_scores + 1e-9)) # Add epsilon for numerical stability\n",
        "        neg_loss = -torch.mean(neg_labels * torch.log(1 - neg_scores + 1e-9))\n",
        "        return pos_loss + neg_loss"
      ]
    },
    {
      "cell_type": "code",
      "execution_count": null,
      "metadata": {
        "execution": {
          "iopub.execute_input": "2024-10-16T17:11:30.966225Z",
          "iopub.status.busy": "2024-10-16T17:11:30.965792Z",
          "iopub.status.idle": "2024-10-16T17:11:30.984788Z",
          "shell.execute_reply": "2024-10-16T17:11:30.983746Z",
          "shell.execute_reply.started": "2024-10-16T17:11:30.966183Z"
        },
        "id": "PRW9mbBbyZQQ",
        "trusted": true
      },
      "outputs": [],
      "source": [
        "class Trainer:\n",
        "    \"\"\"\n",
        "        A class for training and validating a machine learning model.\n",
        "        This class handles the training and evaluation processes of a model using\n",
        "        contrastive learning. It supports both training and validation phases and\n",
        "        includes methods for plotting loss curves and saving the trained model.\n",
        "\n",
        "    \"\"\"\n",
        "\n",
        "    def __init__(self, model, train_loader, valid_loader, device, lr=0.025, n_epochs=10):\n",
        "        self.model = model.to(device)\n",
        "        self.train_loader = train_loader\n",
        "        self.valid_loader = valid_loader\n",
        "        self.device = device\n",
        "        self.lr = lr\n",
        "        self.n_epochs = n_epochs\n",
        "        self.optimizer = optim.Adam(self.model.parameters(), lr=self.lr)\n",
        "        self.scheduler = torch.optim.lr_scheduler.LambdaLR(self.optimizer, lr_lambda=lambda epoch: 0.95 ** epoch)\n",
        "        self.train_loss = []\n",
        "        self.val_acc = 0\n",
        "        self.val_loss = 0\n",
        "\n",
        "    def train(self):\n",
        "        self.model.train()\n",
        "        for epoch in range(self.n_epochs):\n",
        "            total_loss = 0\n",
        "            for batch in self.train_loader:\n",
        "                self.optimizer.zero_grad()\n",
        "                word_ids = batch[\"word_id\"].to(self.device)\n",
        "                pos_context_ids = batch[\"positive_context_ids\"].to(self.device)\n",
        "                neg_context_ids = batch[\"negative_context_ids\"].to(self.device)\n",
        "\n",
        "                pos_scores, neg_scores = self.model(word_ids, pos_context_ids, neg_context_ids)\n",
        "                loss = self.model.contrastive_loss(pos_scores, neg_scores)\n",
        "                total_loss += loss.item()\n",
        "                loss.backward()\n",
        "                self.optimizer.step()\n",
        "\n",
        "            self.scheduler.step()\n",
        "            avg_loss = total_loss / len(self.train_loader)\n",
        "            self.train_loss.append(avg_loss)\n",
        "            print(f\"Epoch {epoch + 1}/{self.n_epochs}, Loss: {avg_loss:.4f}\\n\")\n",
        "\n",
        "    def validate(self):\n",
        "\n",
        "        self.model.eval()\n",
        "        total_loss = 0.0\n",
        "        total_correct = 0\n",
        "        total_samples = 0\n",
        "\n",
        "        with torch.no_grad():\n",
        "            for batch in self.valid_loader:\n",
        "                word_ids = batch[\"word_id\"].to(self.device)\n",
        "                pos_context_ids = batch[\"positive_context_ids\"].to(self.device)\n",
        "                neg_context_ids = batch[\"negative_context_ids\"].to(self.device)\n",
        "\n",
        "                pos_scores, neg_scores = self.model(word_ids, pos_context_ids, neg_context_ids)\n",
        "                loss = self.model.contrastive_loss(pos_scores, neg_scores)\n",
        "                total_loss += loss.item()\n",
        "\n",
        "                total_samples += pos_scores.numel() + neg_scores.numel()\n",
        "                pos_predictions = (pos_scores > 0.5).float()\n",
        "                neg_predictions = (neg_scores <= 0.5).float()\n",
        "                total_correct += (pos_predictions.sum() + neg_predictions.sum()).item()\n",
        "\n",
        "        average_loss = total_loss / len(self.valid_loader)\n",
        "        accuracy = total_correct / total_samples\n",
        "        self.val_acc = accuracy\n",
        "        self.val_loss = average_loss\n",
        "\n",
        "        print(f\"Validation Loss: {average_loss:.4f}, Validation Accuracy: {accuracy:.4f}\\n\")\n",
        "\n",
        "    def plot_loss_curve(self):\n",
        "        plt.plot(self.train_loss, label='Training Loss')\n",
        "        plt.xlabel('Epochs')\n",
        "        plt.ylabel('Loss')\n",
        "        plt.title('Training Loss Curve')\n",
        "        plt.legend()\n",
        "        plt.show()"
      ]
    },
    {
      "cell_type": "code",
      "execution_count": null,
      "metadata": {
        "execution": {
          "iopub.execute_input": "2024-10-16T17:11:32.655270Z",
          "iopub.status.busy": "2024-10-16T17:11:32.654858Z",
          "iopub.status.idle": "2024-10-16T17:11:32.662373Z",
          "shell.execute_reply": "2024-10-16T17:11:32.661414Z",
          "shell.execute_reply.started": "2024-10-16T17:11:32.655232Z"
        },
        "id": "LGwuGe2NY6QK",
        "trusted": true
      },
      "outputs": [],
      "source": [
        "def save_model(\n",
        "    model,\n",
        "    embedding_size: int,\n",
        "    radius: int,\n",
        "    sampling_ratio: int,\n",
        "    batch_size: int,\n",
        "    n_epoch: int,\n",
        "    base_dir: str):\n",
        "\n",
        "    current_dir = os.getcwd()\n",
        "    full_base_dir = os.path.join(current_dir, base_dir)\n",
        "    if not os.path.exists(full_base_dir):\n",
        "        os.makedirs(full_base_dir)\n",
        "\n",
        "    file_name = f\"model_dim-{embedding_size}_radius{radius}_ratio-{sampling_ratio}-batch-{batch_size}-epoch-{n_epoch}.ckpt\"\n",
        "    save_path = os.path.join(base_dir, file_name)\n",
        "    torch.save(model.state_dict(), save_path)\n",
        "    print(f\"Model saved at {save_path}\\n\")"
      ]
    },
    {
      "cell_type": "markdown",
      "metadata": {
        "id": "Y2qFfWPAC4Br"
      },
      "source": [
        "# Intrinsic Evaluation of the Embeddings"
      ]
    },
    {
      "cell_type": "code",
      "execution_count": null,
      "metadata": {
        "execution": {
          "iopub.execute_input": "2024-10-16T17:11:34.916488Z",
          "iopub.status.busy": "2024-10-16T17:11:34.915767Z",
          "iopub.status.idle": "2024-10-16T17:11:34.945320Z",
          "shell.execute_reply": "2024-10-16T17:11:34.944335Z",
          "shell.execute_reply.started": "2024-10-16T17:11:34.916436Z"
        },
        "trusted": true,
        "id": "xtNU7hRV3oWB"
      },
      "outputs": [],
      "source": [
        "class WordEmbeddingEvaluator:\n",
        "    def __init__(self, embeddings, vocab, tokenizer):\n",
        "        self.embeddings = embeddings\n",
        "        self.vocab = vocab\n",
        "        self.tokenizer = tokenizer\n",
        "\n",
        "    def get_word_embedding(self, word):\n",
        "        \"\"\"Retrieves the embedding for a given word.\"\"\"\n",
        "        word_id = self.vocab.get(word)\n",
        "        if word_id is not None:\n",
        "            return self.embeddings[word_id]\n",
        "        else:\n",
        "            print(f\"Word '{word}' not in vocabulary.\")\n",
        "            return None\n",
        "\n",
        "    def evaluate_similarity(self, words):\n",
        "        \"\"\"Evaluates the cosine similarity between pairs of words.\"\"\"\n",
        "        similarities = {}\n",
        "        word_embeddings = [self.get_word_embedding(word) for word in words]\n",
        "\n",
        "        for i, word1 in enumerate(words):\n",
        "            for j, word2 in enumerate(words):\n",
        "                if i < j and word_embeddings[i] is not None and word_embeddings[j] is not None:\n",
        "                    similarity = F.cosine_similarity(word_embeddings[i].unsqueeze(0), word_embeddings[j].unsqueeze(0)).item()\n",
        "                    similarities[(word1, word2)] = f\"{similarity:.4f}\"\n",
        "        return similarities\n",
        "\n",
        "    def analogy(self, word1, word2, word3, top_k=5):\n",
        "        \"\"\"Finds words that complete the analogy.\"\"\"\n",
        "        if word1 in self.vocab and word2 in self.vocab and word3 in self.vocab:\n",
        "            vec1 = self.get_word_embedding(word1)\n",
        "            vec2 = self.get_word_embedding(word2)\n",
        "            vec3 = self.get_word_embedding(word3)\n",
        "            target_vector = vec2 - vec1 + vec3\n",
        "\n",
        "            # Normalize target vector\n",
        "            target_vector = target_vector / target_vector.norm()\n",
        "            similarities = torch.matmul(self.embeddings, target_vector.unsqueeze(0).T)\n",
        "            most_similar_indices = torch.topk(similarities.flatten(), top_k).indices\n",
        "\n",
        "            results = [\n",
        "            self.tokenizer.convert_ids_to_tokens(idx.item())\n",
        "            for idx in most_similar_indices\n",
        "            if idx.item() < self.tokenizer.vocab_size and\n",
        "            self.tokenizer.convert_ids_to_tokens(idx.item()) not in {word1, word2, word3}\n",
        "            ]\n",
        "\n",
        "        else:\n",
        "            print(\"One or more words not in vocabulary.\")\n",
        "            return None\n",
        "\n",
        "    def nearest_neighbors(self, word, top_k=10):\n",
        "        if word in vocab:\n",
        "            word_id = self.tokenizer.encode(word, add_special_tokens=False)[0]\n",
        "            word_vec = self.embeddings[self.vocab[word]]\n",
        "            similarities = torch.matmul(self.embeddings, word_vec)\n",
        "\n",
        "            nearest_indices = torch.topk(similarities, top_k + 1).indices[1:]  # Skip the first index (the word itself)\n",
        "\n",
        "            nearest_indices = [idx for idx in nearest_indices if idx.item() != word_id]\n",
        "\n",
        "            return [tokenizer.convert_ids_to_tokens(idx.item()) for idx in nearest_indices[:top_k]]\n",
        "        else:\n",
        "            print(f\"Word '{word}' not found in vocabulary.\")\n",
        "            return None\n",
        "\n",
        "\n",
        "    def extract_adjective_embeddings(self, adjectives):\n",
        "        \"\"\"Extracts embeddings for a list of adjectives.\"\"\"\n",
        "        embeddings = []\n",
        "        labels = []\n",
        "        for adj in adjectives:\n",
        "            if adj in self.vocab:\n",
        "                embeddings.append(self.get_word_embedding(adj).detach().cpu().numpy())\n",
        "                labels.append(adj)\n",
        "        return np.array(embeddings), labels\n",
        "\n",
        "    def visualize_embeddings(self, word_groups, colors, labels, perplexity=5.0):\n",
        "        \"\"\"Visualizes embeddings using t-SNE for multiple groups of words and annotates the words.\"\"\"\n",
        "        all_embeddings = []\n",
        "        all_labels = []\n",
        "        all_words = []  # Store words for annotations\n",
        "\n",
        "        for group, color, label in zip(word_groups, colors, labels):\n",
        "            embeddings = []\n",
        "            for word in group:\n",
        "                if word in self.vocab:\n",
        "                    # Ensure we're moving to CPU before converting to numpy\n",
        "                    embeddings.append(self.get_word_embedding(word).detach().cpu().numpy())\n",
        "\n",
        "            if embeddings:  # Only proceed if there are embeddings\n",
        "                all_embeddings.append(np.array(embeddings))\n",
        "                all_labels.append(label)\n",
        "                all_words.append(group)  # Store the words\n",
        "\n",
        "        # Concatenate all embeddings for t-SNE\n",
        "        if all_embeddings:\n",
        "            combined_embeddings = np.concatenate(all_embeddings, axis=0)\n",
        "            tsne = TSNE(n_components=2, perplexity=perplexity, random_state=42)\n",
        "            embeddings_2d = tsne.fit_transform(combined_embeddings)\n",
        "\n",
        "            plt.figure(figsize=(10, 8))\n",
        "\n",
        "            start_idx = 0\n",
        "            for idx, (embeddings, color, label, words) in enumerate(zip(all_embeddings, colors, all_labels, all_words)):\n",
        "                end_idx = start_idx + embeddings.shape[0]\n",
        "                plt.scatter(embeddings_2d[start_idx:end_idx, 0],\n",
        "                            embeddings_2d[start_idx:end_idx, 1],\n",
        "                            marker='o', color=color, label=label)\n",
        "                # Annotate each point with the corresponding word\n",
        "                for i in range(start_idx, end_idx):\n",
        "                    plt.annotate(words[i - start_idx],\n",
        "                                 (embeddings_2d[i, 0], embeddings_2d[i, 1]),\n",
        "                                 fontsize=9, alpha=0.7)\n",
        "\n",
        "                start_idx = end_idx\n",
        "\n",
        "            plt.title(\"2D Visualization of Word Embeddings\")\n",
        "            plt.xlabel(\"t-SNE Component 1\")\n",
        "            plt.ylabel(\"t-SNE Component 2\")\n",
        "            plt.legend()\n",
        "            plt.grid()\n",
        "            plt.show()\n",
        "        else:\n",
        "            print(\"No embeddings found for visualization.\")"
      ]
    },
    {
      "cell_type": "markdown",
      "metadata": {
        "id": "JXbpn4TFsLUP"
      },
      "source": [
        "# Ablation Study"
      ]
    },
    {
      "cell_type": "markdown",
      "metadata": {
        "id": "xLURYZBeDHQX"
      },
      "source": [
        "## First set of Hyperparameters:\n",
        "\n",
        "Radius = 5\n",
        "\n",
        "Negative Sampling Factor = 10\n",
        "\n",
        "Embedding Dimention = 100\n",
        "\n",
        "Batch Size = 16\n",
        "\n",
        "Number of Epochs = 5"
      ]
    },
    {
      "cell_type": "code",
      "execution_count": null,
      "metadata": {
        "id": "42dPGQ0IsNmt"
      },
      "outputs": [],
      "source": [
        "K = 10\n",
        "R = 5\n",
        "d = 100\n",
        "B = 16\n",
        "E = 5"
      ]
    },
    {
      "cell_type": "code",
      "execution_count": null,
      "metadata": {
        "colab": {
          "base_uri": "https://localhost:8080/",
          "height": 152,
          "referenced_widgets": [
            "68630a1a4c1440ee8975ef430b633298",
            "6409f28117034e8db36940a2bf6bcdca",
            "c0b76c810166490ca82cf73bc14beeac",
            "a97bb44d92ed4bb2bee70e079c657eb7",
            "8acba152237d4b6cb779189affcc3aec",
            "f8f1c841bbe24911a87b909e9c597915",
            "72272523dc444a2590f0342a1e679a24",
            "923649ab13c2497f9fd25da9800bd37e",
            "087c83334cf04ec692e4a2bd443bd5d4",
            "47725f45beb84d23a582f54e1f9506ca",
            "d93ca9ed239b46a89f973748f0781ab9",
            "435cbe8f06744e068d27fbe1a2b52645",
            "424794e31cdc408b9c49a04faacaefdf",
            "fe909ad51c074a7fb10e3176b504748e",
            "a9e58c1e182d453b8dab9e83b5048ac3",
            "85286523983f4e75a8c8cc75cf0b4378",
            "04a2541382874470bcb37fce0cddc174",
            "6525e04d160d4815bc71ac5d82f3ecfb",
            "92910c53b4894992a7791338992b4725",
            "2710d5532ed2411a9531d10d12839e20",
            "1f505dc61a874e1bad1035552279afba",
            "02112cf2f7314ac98ad80157a465f70b"
          ]
        },
        "id": "gOiFcJdVsa-r",
        "outputId": "b91f2ba9-aade-4277-d667-bbeb1bdd738e"
      },
      "outputs": [
        {
          "data": {
            "application/vnd.jupyter.widget-view+json": {
              "model_id": "68630a1a4c1440ee8975ef430b633298",
              "version_major": 2,
              "version_minor": 0
            },
            "text/plain": [
              "Map:   0%|          | 0/4000 [00:00<?, ? examples/s]"
            ]
          },
          "metadata": {},
          "output_type": "display_data"
        },
        {
          "name": "stdout",
          "output_type": "stream",
          "text": [
            "DataSet Flattened\n",
            "\n",
            "\n"
          ]
        },
        {
          "data": {
            "application/vnd.jupyter.widget-view+json": {
              "model_id": "435cbe8f06744e068d27fbe1a2b52645",
              "version_major": 2,
              "version_minor": 0
            },
            "text/plain": [
              "Map:   0%|          | 0/1000 [00:00<?, ? examples/s]"
            ]
          },
          "metadata": {},
          "output_type": "display_data"
        },
        {
          "name": "stdout",
          "output_type": "stream",
          "text": [
            "DataSet Flattened\n",
            "\n",
            "\n"
          ]
        }
      ],
      "source": [
        "data_loader_wrapper = DataLoaderWrapper(n_samples=5000, batch_size=B, radius=R, K=K)\n",
        "train_loader = data_loader_wrapper.train_loader\n",
        "valid_loader = data_loader_wrapper.valid_loader"
      ]
    },
    {
      "cell_type": "code",
      "execution_count": null,
      "metadata": {
        "colab": {
          "base_uri": "https://localhost:8080/"
        },
        "id": "aJcnW5LV7vzZ",
        "outputId": "cc930e97-12db-42d2-b29d-d77eec369140"
      },
      "outputs": [
        {
          "name": "stdout",
          "output_type": "stream",
          "text": [
            "Shapes of tensors in batch 1:\n",
            "\n",
            "word_id: torch.Size([16])\n",
            "\n",
            "positive_context_ids: torch.Size([16, 10])\n",
            "\n",
            "negative_context_ids: torch.Size([16, 100])\n",
            "\n",
            "\n",
            "\n",
            "Shapes of tensors in batch 2:\n",
            "\n",
            "word_id: torch.Size([16])\n",
            "\n",
            "positive_context_ids: torch.Size([16, 10])\n",
            "\n",
            "negative_context_ids: torch.Size([16, 100])\n",
            "\n",
            "\n",
            "\n",
            "Shapes of tensors in batch 3:\n",
            "\n",
            "word_id: torch.Size([16])\n",
            "\n",
            "positive_context_ids: torch.Size([16, 10])\n",
            "\n",
            "negative_context_ids: torch.Size([16, 100])\n",
            "\n",
            "\n"
          ]
        }
      ],
      "source": [
        "for i, batch in enumerate(train_loader):\n",
        "\n",
        "    if i >= 3:\n",
        "        break\n",
        "\n",
        "    print(f\"Shapes of tensors in batch {i + 1}:\")\n",
        "\n",
        "    print(f\"word_id: {batch['word_id'].size()}\")\n",
        "\n",
        "    print(f\"positive_context_ids: {batch['positive_context_ids'].shape}\")\n",
        "\n",
        "    print(f\"negative_context_ids: {batch['negative_context_ids'].shape}\\n\")"
      ]
    },
    {
      "cell_type": "code",
      "execution_count": null,
      "metadata": {
        "id": "LRQMffhl0G_o"
      },
      "outputs": [],
      "source": [
        "model1 = Word2Vec(vocab_size=data_loader_wrapper.tokenizer.vocab_size, embedding_dim=d).to(data_loader_wrapper.device)"
      ]
    },
    {
      "cell_type": "code",
      "execution_count": null,
      "metadata": {
        "colab": {
          "base_uri": "https://localhost:8080/",
          "height": 686
        },
        "id": "X19Ffoen0TFf",
        "outputId": "b6ad4ad6-199a-4f4e-9803-4eda46878332"
      },
      "outputs": [
        {
          "name": "stdout",
          "output_type": "stream",
          "text": [
            "Epoch 1/5, Loss: 0.1480\n",
            "\n",
            "\n",
            "\n",
            "Epoch 2/5, Loss: 0.0109\n",
            "\n",
            "\n",
            "\n",
            "Epoch 3/5, Loss: 0.0102\n",
            "\n",
            "\n",
            "\n",
            "Epoch 4/5, Loss: 0.0101\n",
            "\n",
            "\n",
            "\n",
            "Epoch 5/5, Loss: 0.0101\n",
            "\n",
            "\n",
            "\n",
            "Validation Loss: 0.0886, Validation Accuracy: 0.8233\n",
            "\n",
            "\n"
          ]
        },
        {
          "data": {
            "image/png": "[encoded data removed]",
            "text/plain": [
              "<Figure size 640x480 with 1 Axes>"
            ]
          },
          "metadata": {},
          "output_type": "display_data"
        }
      ],
      "source": [
        "trainer = Trainer(model1, train_loader, valid_loader, data_loader_wrapper.device, n_epochs=E)\n",
        "trainer.train()\n",
        "trainer.validate()\n",
        "trainer.plot_loss_curve()"
      ]
    },
    {
      "cell_type": "code",
      "execution_count": null,
      "metadata": {
        "colab": {
          "base_uri": "https://localhost:8080/"
        },
        "id": "sEZ9jhwf1fT1",
        "outputId": "6370a9b1-2f3e-4c1f-ffc9-93ee73ebe9dd"
      },
      "outputs": [
        {
          "name": "stdout",
          "output_type": "stream",
          "text": [
            "Model saved at /content/word2vec/model_dim-100_radius5_ratio-10-batch-16-epoch-5.ckpt\n",
            "\n",
            "\n"
          ]
        }
      ],
      "source": [
        "save_model(model1, d, R, K, B, E, base_dir='word2vec')"
      ]
    },
    {
      "cell_type": "markdown",
      "metadata": {
        "id": "bC06xuHFZM5T"
      },
      "source": [
        "## Second set of Hyperparameters: (increasing the size of the embedding from 100 to 300)\n",
        "\n",
        "Radius = 5\n",
        "\n",
        "Negative Sampling Factor = 10\n",
        "\n",
        "Embedding Dimention = 300\n",
        "\n",
        "Batch Size = 16\n",
        "\n",
        "Number of Epochs = 5"
      ]
    },
    {
      "cell_type": "code",
      "execution_count": null,
      "metadata": {
        "execution": {
          "iopub.execute_input": "2024-10-14T10:44:01.270673Z",
          "iopub.status.busy": "2024-10-14T10:44:01.269714Z",
          "iopub.status.idle": "2024-10-14T10:44:01.275132Z",
          "shell.execute_reply": "2024-10-14T10:44:01.274051Z",
          "shell.execute_reply.started": "2024-10-14T10:44:01.270618Z"
        },
        "id": "C1bUG1PlGs2O",
        "trusted": true
      },
      "outputs": [],
      "source": [
        "K = 10\n",
        "R = 5\n",
        "d = 300\n",
        "B = 16\n",
        "E = 5"
      ]
    },
    {
      "cell_type": "code",
      "execution_count": null,
      "metadata": {
        "colab": {
          "base_uri": "https://localhost:8080/",
          "height": 152,
          "referenced_widgets": [
            "c2a7553c3ae348cf8136c91e3360985f",
            "74ecb53b61da468abbbb13bbe1d53081",
            "d296a37f93ea4cd3b0083a60b2bb082f",
            "1e42947c3c6643c59566f23468aceb1c",
            "c8ecbbc2fc6040a089ffc61f59a56114",
            "37809246efcc43d5b226fe7cabf0b80e",
            "c6450951d65d43a3aec8ed261a55b482",
            "fb2e958e85504926a7a6ba04a86c89df",
            "18bcb6d7e3314fe6af3c4e727fd40fb7",
            "73082aa7e43d46a09143af763fd9cb6c",
            "930269669808461b870cce021012528a",
            "e9dfe740dfdc455c99cd4b783a0a2307",
            "677c46f058d9408492629f50682b0c32",
            "ea7cfd972281483c926de27ebff15374",
            "82529d4501a8430a8a83ad076feda285",
            "03c11d116d244b5ca5ac7709d3ff1a21",
            "46653c80e631428195c4c2e37165f065",
            "4d60ed5aca9c437bba6b5456bf670563",
            "33ef6583ca2d404fbfebe2ed1a71121c",
            "34b0909ffdef4b65a1a4c580f23832c7",
            "8df0143455a4485cb063d7fdae92021e",
            "4e5f6b3b9f7d4460a1a12fdd7c81f2ef",
            "78f7ab41fcea44bf9c61ffd3e1836254",
            "fd402196d37c4dc49d7735ac4520c4dd",
            "28cf14db575e426cb26d76c67b882333",
            "b3ad539298f64631b24e7157704a467f",
            "6bb33985d0f245ec99edac5638b52d74",
            "955db14e5a1e4edc992d8681c37277a7",
            "9c7107b18565448ebb6932c4118124e4",
            "f8bda5c1812849599582f5bec9c5f4dc",
            "65b6a5a4dce844829b64e0ec6276cb93",
            "e17681339275487c9cfe87c45118caf1"
          ]
        },
        "execution": {
          "iopub.execute_input": "2024-10-14T10:44:03.223314Z",
          "iopub.status.busy": "2024-10-14T10:44:03.222401Z",
          "iopub.status.idle": "2024-10-14T10:45:43.341137Z",
          "shell.execute_reply": "2024-10-14T10:45:43.340198Z",
          "shell.execute_reply.started": "2024-10-14T10:44:03.223267Z"
        },
        "id": "qlwNzxnGZZUP",
        "outputId": "a9fe5981-a264-4749-95df-801421bf9b65",
        "trusted": true
      },
      "outputs": [
        {
          "data": {
            "application/vnd.jupyter.widget-view+json": {
              "model_id": "78f7ab41fcea44bf9c61ffd3e1836254",
              "version_major": 2,
              "version_minor": 0
            },
            "text/plain": [
              "tokenizer_config.json:   0%|          | 0.00/48.0 [00:00<?, ?B/s]"
            ]
          },
          "metadata": {},
          "output_type": "display_data"
        },
        {
          "data": {
            "application/vnd.jupyter.widget-view+json": {
              "model_id": "fd402196d37c4dc49d7735ac4520c4dd",
              "version_major": 2,
              "version_minor": 0
            },
            "text/plain": [
              "vocab.txt:   0%|          | 0.00/232k [00:00<?, ?B/s]"
            ]
          },
          "metadata": {},
          "output_type": "display_data"
        },
        {
          "data": {
            "application/vnd.jupyter.widget-view+json": {
              "model_id": "28cf14db575e426cb26d76c67b882333",
              "version_major": 2,
              "version_minor": 0
            },
            "text/plain": [
              "tokenizer.json:   0%|          | 0.00/466k [00:00<?, ?B/s]"
            ]
          },
          "metadata": {},
          "output_type": "display_data"
        },
        {
          "data": {
            "application/vnd.jupyter.widget-view+json": {
              "model_id": "b3ad539298f64631b24e7157704a467f",
              "version_major": 2,
              "version_minor": 0
            },
            "text/plain": [
              "config.json:   0%|          | 0.00/570 [00:00<?, ?B/s]"
            ]
          },
          "metadata": {},
          "output_type": "display_data"
        },
        {
          "data": {
            "application/vnd.jupyter.widget-view+json": {
              "model_id": "6bb33985d0f245ec99edac5638b52d74",
              "version_major": 2,
              "version_minor": 0
            },
            "text/plain": [
              "README.md:   0%|          | 0.00/1.22k [00:00<?, ?B/s]"
            ]
          },
          "metadata": {},
          "output_type": "display_data"
        },
        {
          "data": {
            "application/vnd.jupyter.widget-view+json": {
              "model_id": "955db14e5a1e4edc992d8681c37277a7",
              "version_major": 2,
              "version_minor": 0
            },
            "text/plain": [
              "IMDB Dataset.csv:   0%|          | 0.00/66.2M [00:00<?, ?B/s]"
            ]
          },
          "metadata": {},
          "output_type": "display_data"
        },
        {
          "data": {
            "application/vnd.jupyter.widget-view+json": {
              "model_id": "9c7107b18565448ebb6932c4118124e4",
              "version_major": 2,
              "version_minor": 0
            },
            "text/plain": [
              "Generating train split:   0%|          | 0/50000 [00:00<?, ? examples/s]"
            ]
          },
          "metadata": {},
          "output_type": "display_data"
        },
        {
          "data": {
            "application/vnd.jupyter.widget-view+json": {
              "model_id": "f8bda5c1812849599582f5bec9c5f4dc",
              "version_major": 2,
              "version_minor": 0
            },
            "text/plain": [
              "Map:   0%|          | 0/5000 [00:00<?, ? examples/s]"
            ]
          },
          "metadata": {},
          "output_type": "display_data"
        },
        {
          "data": {
            "application/vnd.jupyter.widget-view+json": {
              "model_id": "65b6a5a4dce844829b64e0ec6276cb93",
              "version_major": 2,
              "version_minor": 0
            },
            "text/plain": [
              "Map:   0%|          | 0/4000 [00:00<?, ? examples/s]"
            ]
          },
          "metadata": {},
          "output_type": "display_data"
        },
        {
          "name": "stdout",
          "output_type": "stream",
          "text": [
            "DataSet Flattened\n",
            "\n"
          ]
        },
        {
          "data": {
            "application/vnd.jupyter.widget-view+json": {
              "model_id": "e17681339275487c9cfe87c45118caf1",
              "version_major": 2,
              "version_minor": 0
            },
            "text/plain": [
              "Map:   0%|          | 0/1000 [00:00<?, ? examples/s]"
            ]
          },
          "metadata": {},
          "output_type": "display_data"
        },
        {
          "name": "stdout",
          "output_type": "stream",
          "text": [
            "DataSet Flattened\n",
            "\n"
          ]
        }
      ],
      "source": [
        "data_loader_wrapper = DataLoaderWrapper(n_samples=5000, batch_size=B, radius=R, K=K)\n",
        "train_loader = data_loader_wrapper.train_loader\n",
        "valid_loader = data_loader_wrapper.valid_loader"
      ]
    },
    {
      "cell_type": "code",
      "execution_count": null,
      "metadata": {
        "colab": {
          "base_uri": "https://localhost:8080/"
        },
        "execution": {
          "iopub.execute_input": "2024-10-14T10:45:43.343622Z",
          "iopub.status.busy": "2024-10-14T10:45:43.343192Z",
          "iopub.status.idle": "2024-10-14T10:45:43.645615Z",
          "shell.execute_reply": "2024-10-14T10:45:43.644614Z",
          "shell.execute_reply.started": "2024-10-14T10:45:43.343553Z"
        },
        "id": "LWrtULTvZbeK",
        "outputId": "c0765b4d-3c86-494d-ed56-686cc4b6e41a",
        "trusted": true
      },
      "outputs": [
        {
          "name": "stdout",
          "output_type": "stream",
          "text": [
            "Shapes of tensors in batch 1:\n",
            "word_id: torch.Size([16])\n",
            "positive_context_ids: torch.Size([16, 10])\n",
            "negative_context_ids: torch.Size([16, 100])\n",
            "\n",
            "Shapes of tensors in batch 2:\n",
            "word_id: torch.Size([16])\n",
            "positive_context_ids: torch.Size([16, 10])\n",
            "negative_context_ids: torch.Size([16, 100])\n",
            "\n",
            "Shapes of tensors in batch 3:\n",
            "word_id: torch.Size([16])\n",
            "positive_context_ids: torch.Size([16, 10])\n",
            "negative_context_ids: torch.Size([16, 100])\n",
            "\n"
          ]
        }
      ],
      "source": [
        "for i, batch in enumerate(train_loader):\n",
        "\n",
        "    if i >= 3:\n",
        "        break\n",
        "\n",
        "    print(f\"Shapes of tensors in batch {i + 1}:\")\n",
        "\n",
        "    print(f\"word_id: {batch['word_id'].size()}\")\n",
        "\n",
        "    print(f\"positive_context_ids: {batch['positive_context_ids'].shape}\")\n",
        "\n",
        "    print(f\"negative_context_ids: {batch['negative_context_ids'].shape}\\n\")"
      ]
    },
    {
      "cell_type": "code",
      "execution_count": null,
      "metadata": {
        "execution": {
          "iopub.execute_input": "2024-10-14T11:22:39.297535Z",
          "iopub.status.busy": "2024-10-14T11:22:39.296796Z",
          "iopub.status.idle": "2024-10-14T11:22:39.497922Z",
          "shell.execute_reply": "2024-10-14T11:22:39.497116Z",
          "shell.execute_reply.started": "2024-10-14T11:22:39.297497Z"
        },
        "id": "DBFSSjryZdj8",
        "trusted": true
      },
      "outputs": [],
      "source": [
        "model2 = Word2Vec(vocab_size=data_loader_wrapper.tokenizer.vocab_size, embedding_dim=d).to(data_loader_wrapper.device)"
      ]
    },
    {
      "cell_type": "code",
      "execution_count": null,
      "metadata": {
        "colab": {
          "base_uri": "https://localhost:8080/"
        },
        "execution": {
          "iopub.execute_input": "2024-10-14T11:22:41.218002Z",
          "iopub.status.busy": "2024-10-14T11:22:41.217263Z",
          "iopub.status.idle": "2024-10-14T11:57:11.526616Z",
          "shell.execute_reply": "2024-10-14T11:57:11.525466Z",
          "shell.execute_reply.started": "2024-10-14T11:22:41.217963Z"
        },
        "id": "fP8uh-_bZkH7",
        "outputId": "27c9d8cb-c98b-4802-e304-6d02ae62b119",
        "trusted": true
      },
      "outputs": [
        {
          "name": "stdout",
          "output_type": "stream",
          "text": [
            "Epoch 1/5, Loss: 0.2489\n",
            "\n",
            "Epoch 2/5, Loss: 0.0137\n",
            "\n",
            "Epoch 3/5, Loss: 0.0108\n",
            "\n",
            "Epoch 4/5, Loss: 0.0106\n",
            "\n",
            "Epoch 5/5, Loss: 0.0106\n",
            "\n",
            "Validation Loss: 0.1103, Validation Accuracy: 0.8234\n",
            "\n"
          ]
        },
        {
          "data": {
            "image/png": "[encoded data removed]",
            "text/plain": [
              "<Figure size 640x480 with 1 Axes>"
            ]
          },
          "metadata": {},
          "output_type": "display_data"
        }
      ],
      "source": [
        "trainer = Trainer(model2, train_loader, valid_loader, data_loader_wrapper.device, n_epochs=E)\n",
        "trainer.train()\n",
        "trainer.validate()\n",
        "trainer.plot_loss_curve()"
      ]
    },
    {
      "cell_type": "code",
      "execution_count": null,
      "metadata": {
        "execution": {
          "iopub.execute_input": "2024-10-14T12:04:21.633742Z",
          "iopub.status.busy": "2024-10-14T12:04:21.633326Z",
          "iopub.status.idle": "2024-10-14T12:04:21.783215Z",
          "shell.execute_reply": "2024-10-14T12:04:21.782181Z",
          "shell.execute_reply.started": "2024-10-14T12:04:21.633704Z"
        },
        "id": "AYvbEGcdZsh4",
        "trusted": true,
        "outputId": "62d755b6-4c92-4877-b422-dcda734c0b35"
      },
      "outputs": [
        {
          "name": "stdout",
          "output_type": "stream",
          "text": [
            "Model saved at word2vec/model_dim-300_radius5_ratio-10-batch-16-epoch-5.ckpt\n",
            "\n"
          ]
        }
      ],
      "source": [
        "save_model(model2, d, R, K, B, E, base_dir='word2vec')"
      ]
    },
    {
      "cell_type": "markdown",
      "metadata": {
        "id": "5ubcr5883oWD"
      },
      "source": [
        "## Third set of hyperparameters(Reducing the size of radius and negative sampling factor)\n",
        "\n",
        "K = 5\n",
        "\n",
        "R = 3\n",
        "\n",
        "B = 16\n",
        "\n",
        "E = 5\n",
        "\n",
        "d = 100"
      ]
    },
    {
      "cell_type": "code",
      "execution_count": null,
      "metadata": {
        "execution": {
          "iopub.execute_input": "2024-10-14T12:20:29.617556Z",
          "iopub.status.busy": "2024-10-14T12:20:29.616613Z",
          "iopub.status.idle": "2024-10-14T12:20:29.621952Z",
          "shell.execute_reply": "2024-10-14T12:20:29.620977Z",
          "shell.execute_reply.started": "2024-10-14T12:20:29.617511Z"
        },
        "trusted": true,
        "id": "zW-sWTUL3oWE"
      },
      "outputs": [],
      "source": [
        "K = 5\n",
        "R = 3\n",
        "d = 100\n",
        "B = 16\n",
        "E = 5"
      ]
    },
    {
      "cell_type": "code",
      "execution_count": null,
      "metadata": {
        "execution": {
          "iopub.execute_input": "2024-10-14T12:20:42.213408Z",
          "iopub.status.busy": "2024-10-14T12:20:42.212400Z",
          "iopub.status.idle": "2024-10-14T12:22:21.719065Z",
          "shell.execute_reply": "2024-10-14T12:22:21.718080Z",
          "shell.execute_reply.started": "2024-10-14T12:20:42.213353Z"
        },
        "trusted": true,
        "colab": {
          "referenced_widgets": [
            "9241c36e7d824e67bc1537b3cb3ad29c",
            "40bf3d70b5894b3798ada6230ee700f6",
            "3e2533b9fcc84f4d9a35b25fcccfa863"
          ]
        },
        "id": "c4KbQpOs3oWE",
        "outputId": "b096caea-4109-4ca9-b3eb-e411fa090797"
      },
      "outputs": [
        {
          "data": {
            "application/vnd.jupyter.widget-view+json": {
              "model_id": "9241c36e7d824e67bc1537b3cb3ad29c",
              "version_major": 2,
              "version_minor": 0
            },
            "text/plain": [
              "Map:   0%|          | 0/5000 [00:00<?, ? examples/s]"
            ]
          },
          "metadata": {},
          "output_type": "display_data"
        },
        {
          "data": {
            "application/vnd.jupyter.widget-view+json": {
              "model_id": "40bf3d70b5894b3798ada6230ee700f6",
              "version_major": 2,
              "version_minor": 0
            },
            "text/plain": [
              "Map:   0%|          | 0/4000 [00:00<?, ? examples/s]"
            ]
          },
          "metadata": {},
          "output_type": "display_data"
        },
        {
          "name": "stdout",
          "output_type": "stream",
          "text": [
            "DataSet Flattened\n",
            "\n"
          ]
        },
        {
          "data": {
            "application/vnd.jupyter.widget-view+json": {
              "model_id": "3e2533b9fcc84f4d9a35b25fcccfa863",
              "version_major": 2,
              "version_minor": 0
            },
            "text/plain": [
              "Map:   0%|          | 0/1000 [00:00<?, ? examples/s]"
            ]
          },
          "metadata": {},
          "output_type": "display_data"
        },
        {
          "name": "stdout",
          "output_type": "stream",
          "text": [
            "DataSet Flattened\n",
            "\n"
          ]
        }
      ],
      "source": [
        "data_loader_wrapper = DataLoaderWrapper(n_samples=5000, batch_size=B, radius=R, K=K)\n",
        "train_loader = data_loader_wrapper.train_loader\n",
        "valid_loader = data_loader_wrapper.valid_loader"
      ]
    },
    {
      "cell_type": "code",
      "execution_count": null,
      "metadata": {
        "execution": {
          "iopub.execute_input": "2024-10-14T12:22:21.721264Z",
          "iopub.status.busy": "2024-10-14T12:22:21.720953Z",
          "iopub.status.idle": "2024-10-14T12:22:21.810430Z",
          "shell.execute_reply": "2024-10-14T12:22:21.809469Z",
          "shell.execute_reply.started": "2024-10-14T12:22:21.721231Z"
        },
        "trusted": true,
        "id": "YOj9r9UF3oWE",
        "outputId": "cfe16fa3-71fa-42a7-cd04-bfc65a32327a"
      },
      "outputs": [
        {
          "name": "stdout",
          "output_type": "stream",
          "text": [
            "Shapes of tensors in batch 1:\n",
            "word_id: torch.Size([16])\n",
            "positive_context_ids: torch.Size([16, 6])\n",
            "negative_context_ids: torch.Size([16, 30])\n",
            "\n",
            "Shapes of tensors in batch 2:\n",
            "word_id: torch.Size([16])\n",
            "positive_context_ids: torch.Size([16, 6])\n",
            "negative_context_ids: torch.Size([16, 30])\n",
            "\n",
            "Shapes of tensors in batch 3:\n",
            "word_id: torch.Size([16])\n",
            "positive_context_ids: torch.Size([16, 6])\n",
            "negative_context_ids: torch.Size([16, 30])\n",
            "\n"
          ]
        }
      ],
      "source": [
        "for i, batch in enumerate(train_loader):\n",
        "\n",
        "    if i >= 3:\n",
        "        break\n",
        "\n",
        "    print(f\"Shapes of tensors in batch {i + 1}:\")\n",
        "\n",
        "    print(f\"word_id: {batch['word_id'].size()}\")\n",
        "\n",
        "    print(f\"positive_context_ids: {batch['positive_context_ids'].shape}\")\n",
        "\n",
        "    print(f\"negative_context_ids: {batch['negative_context_ids'].shape}\\n\")"
      ]
    },
    {
      "cell_type": "code",
      "execution_count": null,
      "metadata": {
        "execution": {
          "iopub.execute_input": "2024-10-14T12:22:21.880445Z",
          "iopub.status.busy": "2024-10-14T12:22:21.879935Z",
          "iopub.status.idle": "2024-10-14T12:22:21.944341Z",
          "shell.execute_reply": "2024-10-14T12:22:21.943380Z",
          "shell.execute_reply.started": "2024-10-14T12:22:21.880399Z"
        },
        "trusted": true,
        "id": "Z66oIcmj3oWE"
      },
      "outputs": [],
      "source": [
        "model3 = Word2Vec(vocab_size=data_loader_wrapper.tokenizer.vocab_size, embedding_dim=d).to(data_loader_wrapper.device)"
      ]
    },
    {
      "cell_type": "code",
      "execution_count": null,
      "metadata": {
        "execution": {
          "iopub.execute_input": "2024-10-14T12:22:21.946045Z",
          "iopub.status.busy": "2024-10-14T12:22:21.945694Z",
          "iopub.status.idle": "2024-10-14T12:38:10.162832Z",
          "shell.execute_reply": "2024-10-14T12:38:10.161907Z",
          "shell.execute_reply.started": "2024-10-14T12:22:21.946008Z"
        },
        "trusted": true,
        "id": "4gqecysv3oWF",
        "outputId": "5959fb7f-3020-463c-f6d7-ec8eb6ec8586"
      },
      "outputs": [
        {
          "name": "stdout",
          "output_type": "stream",
          "text": [
            "Epoch 1/5, Loss: 0.1727\n",
            "\n",
            "Epoch 2/5, Loss: 0.0083\n",
            "\n",
            "Epoch 3/5, Loss: 0.0068\n",
            "\n",
            "Epoch 4/5, Loss: 0.0068\n",
            "\n",
            "Epoch 5/5, Loss: 0.0068\n",
            "\n",
            "Validation Loss: 0.0868, Validation Accuracy: 0.8391\n",
            "\n"
          ]
        },
        {
          "data": {
            "image/png": "[encoded data removed]",
            "text/plain": [
              "<Figure size 640x480 with 1 Axes>"
            ]
          },
          "metadata": {},
          "output_type": "display_data"
        }
      ],
      "source": [
        "trainer = Trainer(model3, train_loader, valid_loader, data_loader_wrapper.device, n_epochs=E)\n",
        "trainer.train()\n",
        "trainer.validate()\n",
        "trainer.plot_loss_curve()"
      ]
    },
    {
      "cell_type": "code",
      "execution_count": null,
      "metadata": {
        "execution": {
          "iopub.execute_input": "2024-10-14T12:38:10.164932Z",
          "iopub.status.busy": "2024-10-14T12:38:10.164219Z",
          "iopub.status.idle": "2024-10-14T12:38:10.210414Z",
          "shell.execute_reply": "2024-10-14T12:38:10.209493Z",
          "shell.execute_reply.started": "2024-10-14T12:38:10.164885Z"
        },
        "trusted": true,
        "id": "XCthtwm53oWF",
        "outputId": "3b5f0475-0791-4fb5-dcfd-66d3104ea583"
      },
      "outputs": [
        {
          "name": "stdout",
          "output_type": "stream",
          "text": [
            "Model saved at word2vec/model_dim-100_radius3_ratio-5-batch-16-epoch-5.ckpt\n",
            "\n"
          ]
        }
      ],
      "source": [
        "save_model(model3, d, R, K, B, E, base_dir='word2vec')"
      ]
    },
    {
      "cell_type": "markdown",
      "metadata": {
        "id": "RMHpAhAW3oWF"
      },
      "source": [
        "## Test best set of hyperparameters on more train data (10,000 samples)"
      ]
    },
    {
      "cell_type": "code",
      "execution_count": null,
      "metadata": {
        "execution": {
          "iopub.execute_input": "2024-10-14T12:44:07.112982Z",
          "iopub.status.busy": "2024-10-14T12:44:07.112124Z",
          "iopub.status.idle": "2024-10-14T12:44:07.117312Z",
          "shell.execute_reply": "2024-10-14T12:44:07.116254Z",
          "shell.execute_reply.started": "2024-10-14T12:44:07.112940Z"
        },
        "trusted": true,
        "id": "fgCAn7M03oWF"
      },
      "outputs": [],
      "source": [
        "K = 5\n",
        "R = 3\n",
        "d = 100\n",
        "B = 16\n",
        "E = 5"
      ]
    },
    {
      "cell_type": "code",
      "execution_count": null,
      "metadata": {
        "execution": {
          "iopub.execute_input": "2024-10-14T12:44:32.950050Z",
          "iopub.status.busy": "2024-10-14T12:44:32.949321Z",
          "iopub.status.idle": "2024-10-14T12:49:29.392947Z",
          "shell.execute_reply": "2024-10-14T12:49:29.391870Z",
          "shell.execute_reply.started": "2024-10-14T12:44:32.950003Z"
        },
        "trusted": true,
        "colab": {
          "referenced_widgets": [
            "8713c4d3985b4adfa3916545abdbfc33",
            "22f4200f2c714ea4879ae2bb690d778e",
            "f3503fe1d2424151b6a6d6beeab55445"
          ]
        },
        "id": "i5H1G0Zn3oWF",
        "outputId": "46133141-f700-4c9f-b9c4-57a4e3d40cd1"
      },
      "outputs": [
        {
          "data": {
            "application/vnd.jupyter.widget-view+json": {
              "model_id": "8713c4d3985b4adfa3916545abdbfc33",
              "version_major": 2,
              "version_minor": 0
            },
            "text/plain": [
              "Map:   0%|          | 0/10000 [00:00<?, ? examples/s]"
            ]
          },
          "metadata": {},
          "output_type": "display_data"
        },
        {
          "data": {
            "application/vnd.jupyter.widget-view+json": {
              "model_id": "22f4200f2c714ea4879ae2bb690d778e",
              "version_major": 2,
              "version_minor": 0
            },
            "text/plain": [
              "Map:   0%|          | 0/8000 [00:00<?, ? examples/s]"
            ]
          },
          "metadata": {},
          "output_type": "display_data"
        },
        {
          "name": "stdout",
          "output_type": "stream",
          "text": [
            "DataSet Flattened\n",
            "\n"
          ]
        },
        {
          "data": {
            "application/vnd.jupyter.widget-view+json": {
              "model_id": "f3503fe1d2424151b6a6d6beeab55445",
              "version_major": 2,
              "version_minor": 0
            },
            "text/plain": [
              "Map:   0%|          | 0/2000 [00:00<?, ? examples/s]"
            ]
          },
          "metadata": {},
          "output_type": "display_data"
        },
        {
          "name": "stdout",
          "output_type": "stream",
          "text": [
            "DataSet Flattened\n",
            "\n"
          ]
        }
      ],
      "source": [
        "data_loader_wrapper = DataLoaderWrapper(n_samples=10000, batch_size=B, radius=R, K=K)\n",
        "train_loader = data_loader_wrapper.train_loader\n",
        "valid_loader = data_loader_wrapper.valid_loader"
      ]
    },
    {
      "cell_type": "code",
      "execution_count": null,
      "metadata": {
        "execution": {
          "iopub.execute_input": "2024-10-14T12:49:34.867014Z",
          "iopub.status.busy": "2024-10-14T12:49:34.866640Z",
          "iopub.status.idle": "2024-10-14T12:49:34.936796Z",
          "shell.execute_reply": "2024-10-14T12:49:34.935841Z",
          "shell.execute_reply.started": "2024-10-14T12:49:34.866980Z"
        },
        "trusted": true,
        "id": "IgcmNJMy3oWF"
      },
      "outputs": [],
      "source": [
        "model4 = Word2Vec(vocab_size=data_loader_wrapper.tokenizer.vocab_size, embedding_dim=d).to(data_loader_wrapper.device)"
      ]
    },
    {
      "cell_type": "code",
      "execution_count": null,
      "metadata": {
        "execution": {
          "iopub.execute_input": "2024-10-14T12:49:38.582022Z",
          "iopub.status.busy": "2024-10-14T12:49:38.581653Z",
          "iopub.status.idle": "2024-10-14T13:21:15.573367Z",
          "shell.execute_reply": "2024-10-14T13:21:15.572169Z",
          "shell.execute_reply.started": "2024-10-14T12:49:38.581985Z"
        },
        "trusted": true,
        "id": "Jdc8ZOeo3oWG",
        "outputId": "f3411788-0ee9-4ca0-9156-bac706d970c3"
      },
      "outputs": [
        {
          "name": "stdout",
          "output_type": "stream",
          "text": [
            "Epoch 1/5, Loss: 0.1046\n",
            "\n",
            "Epoch 2/5, Loss: 0.0075\n",
            "\n",
            "Epoch 3/5, Loss: 0.0068\n",
            "\n",
            "Epoch 4/5, Loss: 0.0068\n",
            "\n",
            "Epoch 5/5, Loss: 0.0068\n",
            "\n",
            "Validation Loss: 0.0424, Validation Accuracy: 0.8761\n",
            "\n"
          ]
        },
        {
          "data": {
            "image/png": "[encoded data removed]",
            "text/plain": [
              "<Figure size 640x480 with 1 Axes>"
            ]
          },
          "metadata": {},
          "output_type": "display_data"
        }
      ],
      "source": [
        "trainer = Trainer(model4, train_loader, valid_loader, data_loader_wrapper.device, n_epochs=E)\n",
        "trainer.train()\n",
        "trainer.validate()\n",
        "trainer.plot_loss_curve()"
      ]
    },
    {
      "cell_type": "code",
      "execution_count": null,
      "metadata": {
        "execution": {
          "iopub.execute_input": "2024-10-14T13:30:07.614639Z",
          "iopub.status.busy": "2024-10-14T13:30:07.613533Z",
          "iopub.status.idle": "2024-10-14T13:30:07.701071Z",
          "shell.execute_reply": "2024-10-14T13:30:07.700254Z",
          "shell.execute_reply.started": "2024-10-14T13:30:07.614559Z"
        },
        "trusted": true,
        "id": "4iqe4pJY3oWG",
        "outputId": "7a3424bf-b75c-4a38-ad45-7daa8c9d4b99"
      },
      "outputs": [
        {
          "name": "stdout",
          "output_type": "stream",
          "text": [
            "Model saved at best_model/model_dim-100_radius3_ratio-5-batch-16-epoch-5.ckpt\n",
            "\n"
          ]
        }
      ],
      "source": [
        "save_model(model4, d, R, K, B, E, base_dir='best_model')"
      ]
    },
    {
      "cell_type": "markdown",
      "metadata": {
        "id": "WX1mXCoh3oWG"
      },
      "source": [
        "## Test best set of hyperparameters on the whole train dataset"
      ]
    },
    {
      "cell_type": "code",
      "execution_count": null,
      "metadata": {
        "execution": {
          "iopub.execute_input": "2024-10-16T17:11:40.458755Z",
          "iopub.status.busy": "2024-10-16T17:11:40.458317Z",
          "iopub.status.idle": "2024-10-16T17:11:40.463845Z",
          "shell.execute_reply": "2024-10-16T17:11:40.462577Z",
          "shell.execute_reply.started": "2024-10-16T17:11:40.458713Z"
        },
        "trusted": true,
        "id": "xJKbJER43oWG"
      },
      "outputs": [],
      "source": [
        "K = 5\n",
        "R = 4\n",
        "d = 100\n",
        "B = 16\n",
        "E = 5"
      ]
    },
    {
      "cell_type": "code",
      "execution_count": null,
      "metadata": {
        "execution": {
          "iopub.execute_input": "2024-10-16T17:11:42.013770Z",
          "iopub.status.busy": "2024-10-16T17:11:42.013361Z",
          "iopub.status.idle": "2024-10-16T19:16:41.155230Z",
          "shell.execute_reply": "2024-10-16T19:16:41.154123Z",
          "shell.execute_reply.started": "2024-10-16T17:11:42.013728Z"
        },
        "trusted": true,
        "colab": {
          "referenced_widgets": [
            "33167b87172a40229c978bd3453f0b5c",
            "97f521a4a3694a38aa0cb2fcb7e9368b",
            "15a8b05e4b394be0be696dfdf1203cac",
            "d01b60b6c181425281314b5bdeed3f4a",
            "ab11be868c25429fa35fa4f98e9c0d99",
            "c51e58ced9c64edd93c3b4679aea70f1",
            "6cb863ddbae94cfb8b88012603fb787f",
            "8874f4b73c9e4e8cbd86d9efe71bb8db",
            "cf9dbd2d75ba48b190e0e238b704d179",
            "b75562e9a7af46ccab9e345348c85ad8"
          ]
        },
        "id": "Kc7pdTUF3oWG",
        "outputId": "d21dd73e-1dea-4ce7-dfb4-62d292626c1e"
      },
      "outputs": [
        {
          "data": {
            "application/vnd.jupyter.widget-view+json": {
              "model_id": "33167b87172a40229c978bd3453f0b5c",
              "version_major": 2,
              "version_minor": 0
            },
            "text/plain": [
              "tokenizer_config.json:   0%|          | 0.00/48.0 [00:00<?, ?B/s]"
            ]
          },
          "metadata": {},
          "output_type": "display_data"
        },
        {
          "data": {
            "application/vnd.jupyter.widget-view+json": {
              "model_id": "97f521a4a3694a38aa0cb2fcb7e9368b",
              "version_major": 2,
              "version_minor": 0
            },
            "text/plain": [
              "vocab.txt:   0%|          | 0.00/232k [00:00<?, ?B/s]"
            ]
          },
          "metadata": {},
          "output_type": "display_data"
        },
        {
          "data": {
            "application/vnd.jupyter.widget-view+json": {
              "model_id": "15a8b05e4b394be0be696dfdf1203cac",
              "version_major": 2,
              "version_minor": 0
            },
            "text/plain": [
              "tokenizer.json:   0%|          | 0.00/466k [00:00<?, ?B/s]"
            ]
          },
          "metadata": {},
          "output_type": "display_data"
        },
        {
          "data": {
            "application/vnd.jupyter.widget-view+json": {
              "model_id": "d01b60b6c181425281314b5bdeed3f4a",
              "version_major": 2,
              "version_minor": 0
            },
            "text/plain": [
              "config.json:   0%|          | 0.00/570 [00:00<?, ?B/s]"
            ]
          },
          "metadata": {},
          "output_type": "display_data"
        },
        {
          "data": {
            "application/vnd.jupyter.widget-view+json": {
              "model_id": "ab11be868c25429fa35fa4f98e9c0d99",
              "version_major": 2,
              "version_minor": 0
            },
            "text/plain": [
              "README.md:   0%|          | 0.00/1.22k [00:00<?, ?B/s]"
            ]
          },
          "metadata": {},
          "output_type": "display_data"
        },
        {
          "data": {
            "application/vnd.jupyter.widget-view+json": {
              "model_id": "c51e58ced9c64edd93c3b4679aea70f1",
              "version_major": 2,
              "version_minor": 0
            },
            "text/plain": [
              "IMDB Dataset.csv:   0%|          | 0.00/66.2M [00:00<?, ?B/s]"
            ]
          },
          "metadata": {},
          "output_type": "display_data"
        },
        {
          "data": {
            "application/vnd.jupyter.widget-view+json": {
              "model_id": "6cb863ddbae94cfb8b88012603fb787f",
              "version_major": 2,
              "version_minor": 0
            },
            "text/plain": [
              "Generating train split:   0%|          | 0/50000 [00:00<?, ? examples/s]"
            ]
          },
          "metadata": {},
          "output_type": "display_data"
        },
        {
          "data": {
            "application/vnd.jupyter.widget-view+json": {
              "model_id": "8874f4b73c9e4e8cbd86d9efe71bb8db",
              "version_major": 2,
              "version_minor": 0
            },
            "text/plain": [
              "Map:   0%|          | 0/50000 [00:00<?, ? examples/s]"
            ]
          },
          "metadata": {},
          "output_type": "display_data"
        },
        {
          "data": {
            "application/vnd.jupyter.widget-view+json": {
              "model_id": "cf9dbd2d75ba48b190e0e238b704d179",
              "version_major": 2,
              "version_minor": 0
            },
            "text/plain": [
              "Map:   0%|          | 0/40000 [00:00<?, ? examples/s]"
            ]
          },
          "metadata": {},
          "output_type": "display_data"
        },
        {
          "name": "stdout",
          "output_type": "stream",
          "text": [
            "DataSet Flattened\n",
            "\n"
          ]
        },
        {
          "data": {
            "application/vnd.jupyter.widget-view+json": {
              "model_id": "b75562e9a7af46ccab9e345348c85ad8",
              "version_major": 2,
              "version_minor": 0
            },
            "text/plain": [
              "Map:   0%|          | 0/10000 [00:00<?, ? examples/s]"
            ]
          },
          "metadata": {},
          "output_type": "display_data"
        },
        {
          "name": "stdout",
          "output_type": "stream",
          "text": [
            "DataSet Flattened\n",
            "\n"
          ]
        }
      ],
      "source": [
        "data_loader_wrapper = DataLoaderWrapper(n_samples=50000, batch_size=B, radius=R, K=K)\n",
        "train_loader = data_loader_wrapper.train_loader\n",
        "valid_loader = data_loader_wrapper.valid_loader"
      ]
    },
    {
      "cell_type": "code",
      "execution_count": null,
      "metadata": {
        "execution": {
          "iopub.execute_input": "2024-10-16T19:16:41.158270Z",
          "iopub.status.busy": "2024-10-16T19:16:41.157387Z",
          "iopub.status.idle": "2024-10-16T19:16:41.449747Z",
          "shell.execute_reply": "2024-10-16T19:16:41.448822Z",
          "shell.execute_reply.started": "2024-10-16T19:16:41.158218Z"
        },
        "trusted": true,
        "id": "yC-90UsY3oWH"
      },
      "outputs": [],
      "source": [
        "model5 = Word2Vec(vocab_size=data_loader_wrapper.tokenizer.vocab_size, embedding_dim=d).to(data_loader_wrapper.device)"
      ]
    },
    {
      "cell_type": "code",
      "execution_count": null,
      "metadata": {
        "execution": {
          "iopub.execute_input": "2024-10-16T19:16:41.451497Z",
          "iopub.status.busy": "2024-10-16T19:16:41.451068Z",
          "iopub.status.idle": "2024-10-16T21:58:58.705021Z",
          "shell.execute_reply": "2024-10-16T21:58:58.704008Z",
          "shell.execute_reply.started": "2024-10-16T19:16:41.451446Z"
        },
        "trusted": true,
        "id": "ee96sPuq3oWH",
        "outputId": "798015f9-04af-420d-eef8-f16966289322"
      },
      "outputs": [
        {
          "name": "stdout",
          "output_type": "stream",
          "text": [
            "Epoch 1/5, Loss: 0.0308\n",
            "\n",
            "Epoch 2/5, Loss: 0.0085\n",
            "\n",
            "Epoch 3/5, Loss: 0.0084\n",
            "\n",
            "Epoch 4/5, Loss: 0.0084\n",
            "\n",
            "Epoch 5/5, Loss: 0.0084\n",
            "\n",
            "Validation Loss: 0.0113, Validation Accuracy: 0.9282\n",
            "\n"
          ]
        },
        {
          "data": {
            "image/png": "[encoded data removed]",
            "text/plain": [
              "<Figure size 640x480 with 1 Axes>"
            ]
          },
          "metadata": {},
          "output_type": "display_data"
        }
      ],
      "source": [
        "trainer = Trainer(model5, train_loader, valid_loader, data_loader_wrapper.device, n_epochs=E)\n",
        "trainer.train()\n",
        "trainer.validate()\n",
        "trainer.plot_loss_curve()"
      ]
    },
    {
      "cell_type": "code",
      "execution_count": null,
      "metadata": {
        "execution": {
          "iopub.execute_input": "2024-10-16T22:04:02.402215Z",
          "iopub.status.busy": "2024-10-16T22:04:02.401487Z",
          "iopub.status.idle": "2024-10-16T22:04:02.460600Z",
          "shell.execute_reply": "2024-10-16T22:04:02.459597Z",
          "shell.execute_reply.started": "2024-10-16T22:04:02.402170Z"
        },
        "trusted": true,
        "id": "0_RVwwFq3oWH",
        "outputId": "36ee6da9-15e4-4d9d-c929-8519d1b57d7b"
      },
      "outputs": [
        {
          "name": "stdout",
          "output_type": "stream",
          "text": [
            "Model saved at word2vec/model_dim-100_radius4_ratio-5-batch-16-epoch-5.ckpt\n",
            "\n"
          ]
        }
      ],
      "source": [
        "save_model(model5, d, R, K, B, E, base_dir='word2vec')"
      ]
    },
    {
      "cell_type": "markdown",
      "metadata": {
        "id": "gAyKLG1g3oWH"
      },
      "source": [
        "## Intrinsic Evaluation on the Best Trained Word2Vec Model"
      ]
    },
    {
      "cell_type": "code",
      "execution_count": null,
      "metadata": {
        "execution": {
          "iopub.execute_input": "2024-10-16T22:04:54.236081Z",
          "iopub.status.busy": "2024-10-16T22:04:54.235638Z",
          "iopub.status.idle": "2024-10-16T22:04:54.240846Z",
          "shell.execute_reply": "2024-10-16T22:04:54.239877Z",
          "shell.execute_reply.started": "2024-10-16T22:04:54.236041Z"
        },
        "trusted": true,
        "id": "JPjL5K5Z3oWH"
      },
      "outputs": [],
      "source": [
        "def load_embedding(file_path: str):\n",
        "    state_dict = torch.load(file_path)\n",
        "    return state_dict['word_embeddings.weight']"
      ]
    },
    {
      "cell_type": "code",
      "execution_count": null,
      "metadata": {
        "execution": {
          "iopub.execute_input": "2024-10-16T22:05:00.569132Z",
          "iopub.status.busy": "2024-10-16T22:05:00.568209Z",
          "iopub.status.idle": "2024-10-16T22:05:00.588285Z",
          "shell.execute_reply": "2024-10-16T22:05:00.587397Z",
          "shell.execute_reply.started": "2024-10-16T22:05:00.569086Z"
        },
        "trusted": true,
        "id": "fSME-L573oWH"
      },
      "outputs": [],
      "source": [
        "embeddings = load_embedding(\"/kaggle/working/word2vec/model_dim-100_radius4_ratio-5-batch-16-epoch-5.ckpt\")\n",
        "vocab = data_loader_wrapper.tokenizer.vocab\n",
        "tokenizer = data_loader_wrapper.tokenizer\n",
        "\n",
        "evaluator = WordEmbeddingEvaluator(embeddings, vocab, tokenizer)"
      ]
    },
    {
      "cell_type": "markdown",
      "metadata": {
        "id": "X2qPC_Y23oWH"
      },
      "source": [
        "## 1. Word Similarities"
      ]
    },
    {
      "cell_type": "code",
      "execution_count": null,
      "metadata": {
        "execution": {
          "iopub.execute_input": "2024-10-16T22:05:05.337089Z",
          "iopub.status.busy": "2024-10-16T22:05:05.336353Z",
          "iopub.status.idle": "2024-10-16T22:05:05.403873Z",
          "shell.execute_reply": "2024-10-16T22:05:05.402915Z",
          "shell.execute_reply.started": "2024-10-16T22:05:05.337048Z"
        },
        "trusted": true,
        "id": "FrSySQc73oWH",
        "outputId": "fdbd3f45-b754-4072-f52d-0702c6eeee73"
      },
      "outputs": [
        {
          "data": {
            "text/plain": [
              "{('good', 'better'): '0.5139',\n",
              " ('good', 'bad'): '0.6134',\n",
              " ('good', 'worse'): '0.5455',\n",
              " ('better', 'bad'): '0.5717',\n",
              " ('better', 'worse'): '0.5451',\n",
              " ('bad', 'worse'): '0.4941'}"
            ]
          },
          "execution_count": 25,
          "metadata": {},
          "output_type": "execute_result"
        }
      ],
      "source": [
        "similarities = evaluator.evaluate_similarity(['good', 'better', 'bad', 'worse'])\n",
        "similarities"
      ]
    },
    {
      "cell_type": "markdown",
      "metadata": {
        "id": "hePV3rDu3oWH"
      },
      "source": [
        "## 2. Analogy"
      ]
    },
    {
      "cell_type": "code",
      "execution_count": null,
      "metadata": {
        "execution": {
          "iopub.execute_input": "2024-10-16T22:05:10.520379Z",
          "iopub.status.busy": "2024-10-16T22:05:10.519542Z",
          "iopub.status.idle": "2024-10-16T22:05:10.674957Z",
          "shell.execute_reply": "2024-10-16T22:05:10.674077Z",
          "shell.execute_reply.started": "2024-10-16T22:05:10.520335Z"
        },
        "trusted": true,
        "id": "A_95l4fB3oWI"
      },
      "outputs": [],
      "source": [
        "analogy_result = evaluator.analogy('good', 'better', 'bad', top_k=10)\n",
        "analogy_result"
      ]
    },
    {
      "cell_type": "markdown",
      "metadata": {
        "id": "snhoNhpv3oWI"
      },
      "source": [
        "## 3. Nearest Neighbors"
      ]
    },
    {
      "cell_type": "code",
      "execution_count": null,
      "metadata": {
        "execution": {
          "iopub.execute_input": "2024-10-16T22:05:13.504502Z",
          "iopub.status.busy": "2024-10-16T22:05:13.503489Z",
          "iopub.status.idle": "2024-10-16T22:05:13.518326Z",
          "shell.execute_reply": "2024-10-16T22:05:13.517418Z",
          "shell.execute_reply.started": "2024-10-16T22:05:13.504454Z"
        },
        "trusted": true,
        "id": "Ykeg-pX53oWI",
        "outputId": "afb6d76a-f754-4016-b13d-b1d2229f86a3"
      },
      "outputs": [
        {
          "data": {
            "text/plain": [
              "['the',\n",
              " ',',\n",
              " 'a',\n",
              " '.',\n",
              " 'of',\n",
              " '\"',\n",
              " 'is',\n",
              " ')',\n",
              " 'i',\n",
              " '(',\n",
              " \"'\",\n",
              " 'that',\n",
              " 'for',\n",
              " 'with',\n",
              " '-',\n",
              " 'br',\n",
              " '<',\n",
              " 'in',\n",
              " 'this']"
            ]
          },
          "execution_count": 27,
          "metadata": {},
          "output_type": "execute_result"
        }
      ],
      "source": [
        "neighbors = evaluator.nearest_neighbors('interesting', top_k=20)\n",
        "neighbors"
      ]
    },
    {
      "cell_type": "markdown",
      "metadata": {
        "id": "Ixy9Qk-73oWI"
      },
      "source": [
        "## 2D Visualization of the most repetitive Positive adjectives extracted from the IMDB dataset"
      ]
    },
    {
      "cell_type": "code",
      "execution_count": null,
      "metadata": {
        "execution": {
          "iopub.execute_input": "2024-10-16T22:05:18.616291Z",
          "iopub.status.busy": "2024-10-16T22:05:18.615862Z",
          "iopub.status.idle": "2024-10-16T22:05:18.621987Z",
          "shell.execute_reply": "2024-10-16T22:05:18.620733Z",
          "shell.execute_reply.started": "2024-10-16T22:05:18.616251Z"
        },
        "trusted": true,
        "id": "_NiksQTd3oWI"
      },
      "outputs": [],
      "source": [
        "pos_adjs = ['good', 'great', 'best', 'real', 'funny', 'interesting', 'new', 'original', 'beautiful', 'excellent', 'nice', 'special', 'wonderful']\n",
        "neg_adjs = ['bad', 'old', 'same', 'worst', 'hard', 'poor', 'small', 'awful', 'stupid']"
      ]
    },
    {
      "cell_type": "code",
      "execution_count": null,
      "metadata": {
        "execution": {
          "iopub.execute_input": "2024-10-16T22:05:46.842820Z",
          "iopub.status.busy": "2024-10-16T22:05:46.841777Z",
          "iopub.status.idle": "2024-10-16T22:05:47.594856Z",
          "shell.execute_reply": "2024-10-16T22:05:47.593739Z",
          "shell.execute_reply.started": "2024-10-16T22:05:46.842764Z"
        },
        "trusted": true,
        "id": "xTCkCE5c3oWI",
        "outputId": "5f55a396-85fc-4536-9b2d-46bfd46f3b68"
      },
      "outputs": [
        {
          "data": {
            "image/png": "[encoded data removed]",
            "text/plain": [
              "<Figure size 1000x800 with 1 Axes>"
            ]
          },
          "metadata": {},
          "output_type": "display_data"
        }
      ],
      "source": [
        "word_groups = [pos_adjs, neg_adjs]\n",
        "colors = ['green', 'red']\n",
        "labels = ['Positive', 'Negative']\n",
        "\n",
        "evaluator.visualize_embeddings(word_groups, colors, labels)"
      ]
    }
  ],
  "metadata": {
    "accelerator": "TPU",
    "colab": {
      "gpuType": "V28",
      "machine_shape": "hm",
      "provenance": [],
      "toc_visible": true
    },
    "kaggle": {
      "accelerator": "nvidiaTeslaT4",
      "dataSources": [],
      "dockerImageVersionId": 30787,
      "isGpuEnabled": true,
      "isInternetEnabled": true,
      "language": "python",
      "sourceType": "notebook"
    },
    "kernelspec": {
      "display_name": "Python 3",
      "language": "python",
      "name": "python3"
    },
    "language_info": {
      "codemirror_mode": {
        "name": "ipython",
        "version": 3
      },
      "file_extension": ".py",
      "mimetype": "text/x-python",
      "name": "python",
      "nbconvert_exporter": "python",
      "pygments_lexer": "ipython3",
      "version": "3.10.14"
    },
    "widgets": {
      "application/vnd.jupyter.widget-state+json": {
        "02112cf2f7314ac98ad80157a465f70b": {
          "model_module": "@jupyter-widgets/controls",
          "model_module_version": "1.5.0",
          "model_name": "DescriptionStyleModel",
          "state": {
            "_model_module": "@jupyter-widgets/controls",
            "_model_module_version": "1.5.0",
            "_model_name": "DescriptionStyleModel",
            "_view_count": null,
            "_view_module": "@jupyter-widgets/base",
            "_view_module_version": "1.2.0",
            "_view_name": "StyleView",
            "description_width": ""
          }
        },
        "03c11d116d244b5ca5ac7709d3ff1a21": {
          "model_module": "@jupyter-widgets/base",
          "model_module_version": "1.2.0",
          "model_name": "LayoutModel",
          "state": {
            "_model_module": "@jupyter-widgets/base",
            "_model_module_version": "1.2.0",
            "_model_name": "LayoutModel",
            "_view_count": null,
            "_view_module": "@jupyter-widgets/base",
            "_view_module_version": "1.2.0",
            "_view_name": "LayoutView",
            "align_content": null,
            "align_items": null,
            "align_self": null,
            "border": null,
            "bottom": null,
            "display": null,
            "flex": null,
            "flex_flow": null,
            "grid_area": null,
            "grid_auto_columns": null,
            "grid_auto_flow": null,
            "grid_auto_rows": null,
            "grid_column": null,
            "grid_gap": null,
            "grid_row": null,
            "grid_template_areas": null,
            "grid_template_columns": null,
            "grid_template_rows": null,
            "height": null,
            "justify_content": null,
            "justify_items": null,
            "left": null,
            "margin": null,
            "max_height": null,
            "max_width": null,
            "min_height": null,
            "min_width": null,
            "object_fit": null,
            "object_position": null,
            "order": null,
            "overflow": null,
            "overflow_x": null,
            "overflow_y": null,
            "padding": null,
            "right": null,
            "top": null,
            "visibility": null,
            "width": null
          }
        },
        "04a2541382874470bcb37fce0cddc174": {
          "model_module": "@jupyter-widgets/base",
          "model_module_version": "1.2.0",
          "model_name": "LayoutModel",
          "state": {
            "_model_module": "@jupyter-widgets/base",
            "_model_module_version": "1.2.0",
            "_model_name": "LayoutModel",
            "_view_count": null,
            "_view_module": "@jupyter-widgets/base",
            "_view_module_version": "1.2.0",
            "_view_name": "LayoutView",
            "align_content": null,
            "align_items": null,
            "align_self": null,
            "border": null,
            "bottom": null,
            "display": null,
            "flex": null,
            "flex_flow": null,
            "grid_area": null,
            "grid_auto_columns": null,
            "grid_auto_flow": null,
            "grid_auto_rows": null,
            "grid_column": null,
            "grid_gap": null,
            "grid_row": null,
            "grid_template_areas": null,
            "grid_template_columns": null,
            "grid_template_rows": null,
            "height": null,
            "justify_content": null,
            "justify_items": null,
            "left": null,
            "margin": null,
            "max_height": null,
            "max_width": null,
            "min_height": null,
            "min_width": null,
            "object_fit": null,
            "object_position": null,
            "order": null,
            "overflow": null,
            "overflow_x": null,
            "overflow_y": null,
            "padding": null,
            "right": null,
            "top": null,
            "visibility": null,
            "width": null
          }
        },
        "087c83334cf04ec692e4a2bd443bd5d4": {
          "model_module": "@jupyter-widgets/controls",
          "model_module_version": "1.5.0",
          "model_name": "ProgressStyleModel",
          "state": {
            "_model_module": "@jupyter-widgets/controls",
            "_model_module_version": "1.5.0",
            "_model_name": "ProgressStyleModel",
            "_view_count": null,
            "_view_module": "@jupyter-widgets/base",
            "_view_module_version": "1.2.0",
            "_view_name": "StyleView",
            "bar_color": null,
            "description_width": ""
          }
        },
        "18bcb6d7e3314fe6af3c4e727fd40fb7": {
          "model_module": "@jupyter-widgets/controls",
          "model_module_version": "1.5.0",
          "model_name": "ProgressStyleModel",
          "state": {
            "_model_module": "@jupyter-widgets/controls",
            "_model_module_version": "1.5.0",
            "_model_name": "ProgressStyleModel",
            "_view_count": null,
            "_view_module": "@jupyter-widgets/base",
            "_view_module_version": "1.2.0",
            "_view_name": "StyleView",
            "bar_color": null,
            "description_width": ""
          }
        },
        "1e42947c3c6643c59566f23468aceb1c": {
          "model_module": "@jupyter-widgets/controls",
          "model_module_version": "1.5.0",
          "model_name": "HTMLModel",
          "state": {
            "_dom_classes": [],
            "_model_module": "@jupyter-widgets/controls",
            "_model_module_version": "1.5.0",
            "_model_name": "HTMLModel",
            "_view_count": null,
            "_view_module": "@jupyter-widgets/controls",
            "_view_module_version": "1.5.0",
            "_view_name": "HTMLView",
            "description": "",
            "description_tooltip": null,
            "layout": "IPY_MODEL_73082aa7e43d46a09143af763fd9cb6c",
            "placeholder": "​",
            "style": "IPY_MODEL_930269669808461b870cce021012528a",
            "value": " 4000/4000 [00:05&lt;00:00, 849.09 examples/s]"
          }
        },
        "1f505dc61a874e1bad1035552279afba": {
          "model_module": "@jupyter-widgets/base",
          "model_module_version": "1.2.0",
          "model_name": "LayoutModel",
          "state": {
            "_model_module": "@jupyter-widgets/base",
            "_model_module_version": "1.2.0",
            "_model_name": "LayoutModel",
            "_view_count": null,
            "_view_module": "@jupyter-widgets/base",
            "_view_module_version": "1.2.0",
            "_view_name": "LayoutView",
            "align_content": null,
            "align_items": null,
            "align_self": null,
            "border": null,
            "bottom": null,
            "display": null,
            "flex": null,
            "flex_flow": null,
            "grid_area": null,
            "grid_auto_columns": null,
            "grid_auto_flow": null,
            "grid_auto_rows": null,
            "grid_column": null,
            "grid_gap": null,
            "grid_row": null,
            "grid_template_areas": null,
            "grid_template_columns": null,
            "grid_template_rows": null,
            "height": null,
            "justify_content": null,
            "justify_items": null,
            "left": null,
            "margin": null,
            "max_height": null,
            "max_width": null,
            "min_height": null,
            "min_width": null,
            "object_fit": null,
            "object_position": null,
            "order": null,
            "overflow": null,
            "overflow_x": null,
            "overflow_y": null,
            "padding": null,
            "right": null,
            "top": null,
            "visibility": null,
            "width": null
          }
        },
        "2710d5532ed2411a9531d10d12839e20": {
          "model_module": "@jupyter-widgets/controls",
          "model_module_version": "1.5.0",
          "model_name": "ProgressStyleModel",
          "state": {
            "_model_module": "@jupyter-widgets/controls",
            "_model_module_version": "1.5.0",
            "_model_name": "ProgressStyleModel",
            "_view_count": null,
            "_view_module": "@jupyter-widgets/base",
            "_view_module_version": "1.2.0",
            "_view_name": "StyleView",
            "bar_color": null,
            "description_width": ""
          }
        },
        "33ef6583ca2d404fbfebe2ed1a71121c": {
          "model_module": "@jupyter-widgets/base",
          "model_module_version": "1.2.0",
          "model_name": "LayoutModel",
          "state": {
            "_model_module": "@jupyter-widgets/base",
            "_model_module_version": "1.2.0",
            "_model_name": "LayoutModel",
            "_view_count": null,
            "_view_module": "@jupyter-widgets/base",
            "_view_module_version": "1.2.0",
            "_view_name": "LayoutView",
            "align_content": null,
            "align_items": null,
            "align_self": null,
            "border": null,
            "bottom": null,
            "display": null,
            "flex": null,
            "flex_flow": null,
            "grid_area": null,
            "grid_auto_columns": null,
            "grid_auto_flow": null,
            "grid_auto_rows": null,
            "grid_column": null,
            "grid_gap": null,
            "grid_row": null,
            "grid_template_areas": null,
            "grid_template_columns": null,
            "grid_template_rows": null,
            "height": null,
            "justify_content": null,
            "justify_items": null,
            "left": null,
            "margin": null,
            "max_height": null,
            "max_width": null,
            "min_height": null,
            "min_width": null,
            "object_fit": null,
            "object_position": null,
            "order": null,
            "overflow": null,
            "overflow_x": null,
            "overflow_y": null,
            "padding": null,
            "right": null,
            "top": null,
            "visibility": null,
            "width": null
          }
        },
        "34b0909ffdef4b65a1a4c580f23832c7": {
          "model_module": "@jupyter-widgets/controls",
          "model_module_version": "1.5.0",
          "model_name": "ProgressStyleModel",
          "state": {
            "_model_module": "@jupyter-widgets/controls",
            "_model_module_version": "1.5.0",
            "_model_name": "ProgressStyleModel",
            "_view_count": null,
            "_view_module": "@jupyter-widgets/base",
            "_view_module_version": "1.2.0",
            "_view_name": "StyleView",
            "bar_color": null,
            "description_width": ""
          }
        },
        "37809246efcc43d5b226fe7cabf0b80e": {
          "model_module": "@jupyter-widgets/base",
          "model_module_version": "1.2.0",
          "model_name": "LayoutModel",
          "state": {
            "_model_module": "@jupyter-widgets/base",
            "_model_module_version": "1.2.0",
            "_model_name": "LayoutModel",
            "_view_count": null,
            "_view_module": "@jupyter-widgets/base",
            "_view_module_version": "1.2.0",
            "_view_name": "LayoutView",
            "align_content": null,
            "align_items": null,
            "align_self": null,
            "border": null,
            "bottom": null,
            "display": null,
            "flex": null,
            "flex_flow": null,
            "grid_area": null,
            "grid_auto_columns": null,
            "grid_auto_flow": null,
            "grid_auto_rows": null,
            "grid_column": null,
            "grid_gap": null,
            "grid_row": null,
            "grid_template_areas": null,
            "grid_template_columns": null,
            "grid_template_rows": null,
            "height": null,
            "justify_content": null,
            "justify_items": null,
            "left": null,
            "margin": null,
            "max_height": null,
            "max_width": null,
            "min_height": null,
            "min_width": null,
            "object_fit": null,
            "object_position": null,
            "order": null,
            "overflow": null,
            "overflow_x": null,
            "overflow_y": null,
            "padding": null,
            "right": null,
            "top": null,
            "visibility": null,
            "width": null
          }
        },
        "424794e31cdc408b9c49a04faacaefdf": {
          "model_module": "@jupyter-widgets/controls",
          "model_module_version": "1.5.0",
          "model_name": "HTMLModel",
          "state": {
            "_dom_classes": [],
            "_model_module": "@jupyter-widgets/controls",
            "_model_module_version": "1.5.0",
            "_model_name": "HTMLModel",
            "_view_count": null,
            "_view_module": "@jupyter-widgets/controls",
            "_view_module_version": "1.5.0",
            "_view_name": "HTMLView",
            "description": "",
            "description_tooltip": null,
            "layout": "IPY_MODEL_04a2541382874470bcb37fce0cddc174",
            "placeholder": "​",
            "style": "IPY_MODEL_6525e04d160d4815bc71ac5d82f3ecfb",
            "value": "Map: 100%"
          }
        },
        "435cbe8f06744e068d27fbe1a2b52645": {
          "model_module": "@jupyter-widgets/controls",
          "model_module_version": "1.5.0",
          "model_name": "HBoxModel",
          "state": {
            "_dom_classes": [],
            "_model_module": "@jupyter-widgets/controls",
            "_model_module_version": "1.5.0",
            "_model_name": "HBoxModel",
            "_view_count": null,
            "_view_module": "@jupyter-widgets/controls",
            "_view_module_version": "1.5.0",
            "_view_name": "HBoxView",
            "box_style": "",
            "children": [
              "IPY_MODEL_424794e31cdc408b9c49a04faacaefdf",
              "IPY_MODEL_fe909ad51c074a7fb10e3176b504748e",
              "IPY_MODEL_a9e58c1e182d453b8dab9e83b5048ac3"
            ],
            "layout": "IPY_MODEL_85286523983f4e75a8c8cc75cf0b4378"
          }
        },
        "46653c80e631428195c4c2e37165f065": {
          "model_module": "@jupyter-widgets/base",
          "model_module_version": "1.2.0",
          "model_name": "LayoutModel",
          "state": {
            "_model_module": "@jupyter-widgets/base",
            "_model_module_version": "1.2.0",
            "_model_name": "LayoutModel",
            "_view_count": null,
            "_view_module": "@jupyter-widgets/base",
            "_view_module_version": "1.2.0",
            "_view_name": "LayoutView",
            "align_content": null,
            "align_items": null,
            "align_self": null,
            "border": null,
            "bottom": null,
            "display": null,
            "flex": null,
            "flex_flow": null,
            "grid_area": null,
            "grid_auto_columns": null,
            "grid_auto_flow": null,
            "grid_auto_rows": null,
            "grid_column": null,
            "grid_gap": null,
            "grid_row": null,
            "grid_template_areas": null,
            "grid_template_columns": null,
            "grid_template_rows": null,
            "height": null,
            "justify_content": null,
            "justify_items": null,
            "left": null,
            "margin": null,
            "max_height": null,
            "max_width": null,
            "min_height": null,
            "min_width": null,
            "object_fit": null,
            "object_position": null,
            "order": null,
            "overflow": null,
            "overflow_x": null,
            "overflow_y": null,
            "padding": null,
            "right": null,
            "top": null,
            "visibility": null,
            "width": null
          }
        },
        "47725f45beb84d23a582f54e1f9506ca": {
          "model_module": "@jupyter-widgets/base",
          "model_module_version": "1.2.0",
          "model_name": "LayoutModel",
          "state": {
            "_model_module": "@jupyter-widgets/base",
            "_model_module_version": "1.2.0",
            "_model_name": "LayoutModel",
            "_view_count": null,
            "_view_module": "@jupyter-widgets/base",
            "_view_module_version": "1.2.0",
            "_view_name": "LayoutView",
            "align_content": null,
            "align_items": null,
            "align_self": null,
            "border": null,
            "bottom": null,
            "display": null,
            "flex": null,
            "flex_flow": null,
            "grid_area": null,
            "grid_auto_columns": null,
            "grid_auto_flow": null,
            "grid_auto_rows": null,
            "grid_column": null,
            "grid_gap": null,
            "grid_row": null,
            "grid_template_areas": null,
            "grid_template_columns": null,
            "grid_template_rows": null,
            "height": null,
            "justify_content": null,
            "justify_items": null,
            "left": null,
            "margin": null,
            "max_height": null,
            "max_width": null,
            "min_height": null,
            "min_width": null,
            "object_fit": null,
            "object_position": null,
            "order": null,
            "overflow": null,
            "overflow_x": null,
            "overflow_y": null,
            "padding": null,
            "right": null,
            "top": null,
            "visibility": null,
            "width": null
          }
        },
        "4d60ed5aca9c437bba6b5456bf670563": {
          "model_module": "@jupyter-widgets/controls",
          "model_module_version": "1.5.0",
          "model_name": "DescriptionStyleModel",
          "state": {
            "_model_module": "@jupyter-widgets/controls",
            "_model_module_version": "1.5.0",
            "_model_name": "DescriptionStyleModel",
            "_view_count": null,
            "_view_module": "@jupyter-widgets/base",
            "_view_module_version": "1.2.0",
            "_view_name": "StyleView",
            "description_width": ""
          }
        },
        "4e5f6b3b9f7d4460a1a12fdd7c81f2ef": {
          "model_module": "@jupyter-widgets/controls",
          "model_module_version": "1.5.0",
          "model_name": "DescriptionStyleModel",
          "state": {
            "_model_module": "@jupyter-widgets/controls",
            "_model_module_version": "1.5.0",
            "_model_name": "DescriptionStyleModel",
            "_view_count": null,
            "_view_module": "@jupyter-widgets/base",
            "_view_module_version": "1.2.0",
            "_view_name": "StyleView",
            "description_width": ""
          }
        },
        "6409f28117034e8db36940a2bf6bcdca": {
          "model_module": "@jupyter-widgets/controls",
          "model_module_version": "1.5.0",
          "model_name": "HTMLModel",
          "state": {
            "_dom_classes": [],
            "_model_module": "@jupyter-widgets/controls",
            "_model_module_version": "1.5.0",
            "_model_name": "HTMLModel",
            "_view_count": null,
            "_view_module": "@jupyter-widgets/controls",
            "_view_module_version": "1.5.0",
            "_view_name": "HTMLView",
            "description": "",
            "description_tooltip": null,
            "layout": "IPY_MODEL_f8f1c841bbe24911a87b909e9c597915",
            "placeholder": "​",
            "style": "IPY_MODEL_72272523dc444a2590f0342a1e679a24",
            "value": "Map: 100%"
          }
        },
        "6525e04d160d4815bc71ac5d82f3ecfb": {
          "model_module": "@jupyter-widgets/controls",
          "model_module_version": "1.5.0",
          "model_name": "DescriptionStyleModel",
          "state": {
            "_model_module": "@jupyter-widgets/controls",
            "_model_module_version": "1.5.0",
            "_model_name": "DescriptionStyleModel",
            "_view_count": null,
            "_view_module": "@jupyter-widgets/base",
            "_view_module_version": "1.2.0",
            "_view_name": "StyleView",
            "description_width": ""
          }
        },
        "677c46f058d9408492629f50682b0c32": {
          "model_module": "@jupyter-widgets/controls",
          "model_module_version": "1.5.0",
          "model_name": "HTMLModel",
          "state": {
            "_dom_classes": [],
            "_model_module": "@jupyter-widgets/controls",
            "_model_module_version": "1.5.0",
            "_model_name": "HTMLModel",
            "_view_count": null,
            "_view_module": "@jupyter-widgets/controls",
            "_view_module_version": "1.5.0",
            "_view_name": "HTMLView",
            "description": "",
            "description_tooltip": null,
            "layout": "IPY_MODEL_46653c80e631428195c4c2e37165f065",
            "placeholder": "​",
            "style": "IPY_MODEL_4d60ed5aca9c437bba6b5456bf670563",
            "value": "Map: 100%"
          }
        },
        "68630a1a4c1440ee8975ef430b633298": {
          "model_module": "@jupyter-widgets/controls",
          "model_module_version": "1.5.0",
          "model_name": "HBoxModel",
          "state": {
            "_dom_classes": [],
            "_model_module": "@jupyter-widgets/controls",
            "_model_module_version": "1.5.0",
            "_model_name": "HBoxModel",
            "_view_count": null,
            "_view_module": "@jupyter-widgets/controls",
            "_view_module_version": "1.5.0",
            "_view_name": "HBoxView",
            "box_style": "",
            "children": [
              "IPY_MODEL_6409f28117034e8db36940a2bf6bcdca",
              "IPY_MODEL_c0b76c810166490ca82cf73bc14beeac",
              "IPY_MODEL_a97bb44d92ed4bb2bee70e079c657eb7"
            ],
            "layout": "IPY_MODEL_8acba152237d4b6cb779189affcc3aec"
          }
        },
        "72272523dc444a2590f0342a1e679a24": {
          "model_module": "@jupyter-widgets/controls",
          "model_module_version": "1.5.0",
          "model_name": "DescriptionStyleModel",
          "state": {
            "_model_module": "@jupyter-widgets/controls",
            "_model_module_version": "1.5.0",
            "_model_name": "DescriptionStyleModel",
            "_view_count": null,
            "_view_module": "@jupyter-widgets/base",
            "_view_module_version": "1.2.0",
            "_view_name": "StyleView",
            "description_width": ""
          }
        },
        "73082aa7e43d46a09143af763fd9cb6c": {
          "model_module": "@jupyter-widgets/base",
          "model_module_version": "1.2.0",
          "model_name": "LayoutModel",
          "state": {
            "_model_module": "@jupyter-widgets/base",
            "_model_module_version": "1.2.0",
            "_model_name": "LayoutModel",
            "_view_count": null,
            "_view_module": "@jupyter-widgets/base",
            "_view_module_version": "1.2.0",
            "_view_name": "LayoutView",
            "align_content": null,
            "align_items": null,
            "align_self": null,
            "border": null,
            "bottom": null,
            "display": null,
            "flex": null,
            "flex_flow": null,
            "grid_area": null,
            "grid_auto_columns": null,
            "grid_auto_flow": null,
            "grid_auto_rows": null,
            "grid_column": null,
            "grid_gap": null,
            "grid_row": null,
            "grid_template_areas": null,
            "grid_template_columns": null,
            "grid_template_rows": null,
            "height": null,
            "justify_content": null,
            "justify_items": null,
            "left": null,
            "margin": null,
            "max_height": null,
            "max_width": null,
            "min_height": null,
            "min_width": null,
            "object_fit": null,
            "object_position": null,
            "order": null,
            "overflow": null,
            "overflow_x": null,
            "overflow_y": null,
            "padding": null,
            "right": null,
            "top": null,
            "visibility": null,
            "width": null
          }
        },
        "74ecb53b61da468abbbb13bbe1d53081": {
          "model_module": "@jupyter-widgets/controls",
          "model_module_version": "1.5.0",
          "model_name": "HTMLModel",
          "state": {
            "_dom_classes": [],
            "_model_module": "@jupyter-widgets/controls",
            "_model_module_version": "1.5.0",
            "_model_name": "HTMLModel",
            "_view_count": null,
            "_view_module": "@jupyter-widgets/controls",
            "_view_module_version": "1.5.0",
            "_view_name": "HTMLView",
            "description": "",
            "description_tooltip": null,
            "layout": "IPY_MODEL_37809246efcc43d5b226fe7cabf0b80e",
            "placeholder": "​",
            "style": "IPY_MODEL_c6450951d65d43a3aec8ed261a55b482",
            "value": "Map: 100%"
          }
        },
        "82529d4501a8430a8a83ad076feda285": {
          "model_module": "@jupyter-widgets/controls",
          "model_module_version": "1.5.0",
          "model_name": "HTMLModel",
          "state": {
            "_dom_classes": [],
            "_model_module": "@jupyter-widgets/controls",
            "_model_module_version": "1.5.0",
            "_model_name": "HTMLModel",
            "_view_count": null,
            "_view_module": "@jupyter-widgets/controls",
            "_view_module_version": "1.5.0",
            "_view_name": "HTMLView",
            "description": "",
            "description_tooltip": null,
            "layout": "IPY_MODEL_8df0143455a4485cb063d7fdae92021e",
            "placeholder": "​",
            "style": "IPY_MODEL_4e5f6b3b9f7d4460a1a12fdd7c81f2ef",
            "value": " 1000/1000 [00:01&lt;00:00, 1384.65 examples/s]"
          }
        },
        "85286523983f4e75a8c8cc75cf0b4378": {
          "model_module": "@jupyter-widgets/base",
          "model_module_version": "1.2.0",
          "model_name": "LayoutModel",
          "state": {
            "_model_module": "@jupyter-widgets/base",
            "_model_module_version": "1.2.0",
            "_model_name": "LayoutModel",
            "_view_count": null,
            "_view_module": "@jupyter-widgets/base",
            "_view_module_version": "1.2.0",
            "_view_name": "LayoutView",
            "align_content": null,
            "align_items": null,
            "align_self": null,
            "border": null,
            "bottom": null,
            "display": null,
            "flex": null,
            "flex_flow": null,
            "grid_area": null,
            "grid_auto_columns": null,
            "grid_auto_flow": null,
            "grid_auto_rows": null,
            "grid_column": null,
            "grid_gap": null,
            "grid_row": null,
            "grid_template_areas": null,
            "grid_template_columns": null,
            "grid_template_rows": null,
            "height": null,
            "justify_content": null,
            "justify_items": null,
            "left": null,
            "margin": null,
            "max_height": null,
            "max_width": null,
            "min_height": null,
            "min_width": null,
            "object_fit": null,
            "object_position": null,
            "order": null,
            "overflow": null,
            "overflow_x": null,
            "overflow_y": null,
            "padding": null,
            "right": null,
            "top": null,
            "visibility": null,
            "width": null
          }
        },
        "8acba152237d4b6cb779189affcc3aec": {
          "model_module": "@jupyter-widgets/base",
          "model_module_version": "1.2.0",
          "model_name": "LayoutModel",
          "state": {
            "_model_module": "@jupyter-widgets/base",
            "_model_module_version": "1.2.0",
            "_model_name": "LayoutModel",
            "_view_count": null,
            "_view_module": "@jupyter-widgets/base",
            "_view_module_version": "1.2.0",
            "_view_name": "LayoutView",
            "align_content": null,
            "align_items": null,
            "align_self": null,
            "border": null,
            "bottom": null,
            "display": null,
            "flex": null,
            "flex_flow": null,
            "grid_area": null,
            "grid_auto_columns": null,
            "grid_auto_flow": null,
            "grid_auto_rows": null,
            "grid_column": null,
            "grid_gap": null,
            "grid_row": null,
            "grid_template_areas": null,
            "grid_template_columns": null,
            "grid_template_rows": null,
            "height": null,
            "justify_content": null,
            "justify_items": null,
            "left": null,
            "margin": null,
            "max_height": null,
            "max_width": null,
            "min_height": null,
            "min_width": null,
            "object_fit": null,
            "object_position": null,
            "order": null,
            "overflow": null,
            "overflow_x": null,
            "overflow_y": null,
            "padding": null,
            "right": null,
            "top": null,
            "visibility": null,
            "width": null
          }
        },
        "8df0143455a4485cb063d7fdae92021e": {
          "model_module": "@jupyter-widgets/base",
          "model_module_version": "1.2.0",
          "model_name": "LayoutModel",
          "state": {
            "_model_module": "@jupyter-widgets/base",
            "_model_module_version": "1.2.0",
            "_model_name": "LayoutModel",
            "_view_count": null,
            "_view_module": "@jupyter-widgets/base",
            "_view_module_version": "1.2.0",
            "_view_name": "LayoutView",
            "align_content": null,
            "align_items": null,
            "align_self": null,
            "border": null,
            "bottom": null,
            "display": null,
            "flex": null,
            "flex_flow": null,
            "grid_area": null,
            "grid_auto_columns": null,
            "grid_auto_flow": null,
            "grid_auto_rows": null,
            "grid_column": null,
            "grid_gap": null,
            "grid_row": null,
            "grid_template_areas": null,
            "grid_template_columns": null,
            "grid_template_rows": null,
            "height": null,
            "justify_content": null,
            "justify_items": null,
            "left": null,
            "margin": null,
            "max_height": null,
            "max_width": null,
            "min_height": null,
            "min_width": null,
            "object_fit": null,
            "object_position": null,
            "order": null,
            "overflow": null,
            "overflow_x": null,
            "overflow_y": null,
            "padding": null,
            "right": null,
            "top": null,
            "visibility": null,
            "width": null
          }
        },
        "923649ab13c2497f9fd25da9800bd37e": {
          "model_module": "@jupyter-widgets/base",
          "model_module_version": "1.2.0",
          "model_name": "LayoutModel",
          "state": {
            "_model_module": "@jupyter-widgets/base",
            "_model_module_version": "1.2.0",
            "_model_name": "LayoutModel",
            "_view_count": null,
            "_view_module": "@jupyter-widgets/base",
            "_view_module_version": "1.2.0",
            "_view_name": "LayoutView",
            "align_content": null,
            "align_items": null,
            "align_self": null,
            "border": null,
            "bottom": null,
            "display": null,
            "flex": null,
            "flex_flow": null,
            "grid_area": null,
            "grid_auto_columns": null,
            "grid_auto_flow": null,
            "grid_auto_rows": null,
            "grid_column": null,
            "grid_gap": null,
            "grid_row": null,
            "grid_template_areas": null,
            "grid_template_columns": null,
            "grid_template_rows": null,
            "height": null,
            "justify_content": null,
            "justify_items": null,
            "left": null,
            "margin": null,
            "max_height": null,
            "max_width": null,
            "min_height": null,
            "min_width": null,
            "object_fit": null,
            "object_position": null,
            "order": null,
            "overflow": null,
            "overflow_x": null,
            "overflow_y": null,
            "padding": null,
            "right": null,
            "top": null,
            "visibility": null,
            "width": null
          }
        },
        "92910c53b4894992a7791338992b4725": {
          "model_module": "@jupyter-widgets/base",
          "model_module_version": "1.2.0",
          "model_name": "LayoutModel",
          "state": {
            "_model_module": "@jupyter-widgets/base",
            "_model_module_version": "1.2.0",
            "_model_name": "LayoutModel",
            "_view_count": null,
            "_view_module": "@jupyter-widgets/base",
            "_view_module_version": "1.2.0",
            "_view_name": "LayoutView",
            "align_content": null,
            "align_items": null,
            "align_self": null,
            "border": null,
            "bottom": null,
            "display": null,
            "flex": null,
            "flex_flow": null,
            "grid_area": null,
            "grid_auto_columns": null,
            "grid_auto_flow": null,
            "grid_auto_rows": null,
            "grid_column": null,
            "grid_gap": null,
            "grid_row": null,
            "grid_template_areas": null,
            "grid_template_columns": null,
            "grid_template_rows": null,
            "height": null,
            "justify_content": null,
            "justify_items": null,
            "left": null,
            "margin": null,
            "max_height": null,
            "max_width": null,
            "min_height": null,
            "min_width": null,
            "object_fit": null,
            "object_position": null,
            "order": null,
            "overflow": null,
            "overflow_x": null,
            "overflow_y": null,
            "padding": null,
            "right": null,
            "top": null,
            "visibility": null,
            "width": null
          }
        },
        "930269669808461b870cce021012528a": {
          "model_module": "@jupyter-widgets/controls",
          "model_module_version": "1.5.0",
          "model_name": "DescriptionStyleModel",
          "state": {
            "_model_module": "@jupyter-widgets/controls",
            "_model_module_version": "1.5.0",
            "_model_name": "DescriptionStyleModel",
            "_view_count": null,
            "_view_module": "@jupyter-widgets/base",
            "_view_module_version": "1.2.0",
            "_view_name": "StyleView",
            "description_width": ""
          }
        },
        "a97bb44d92ed4bb2bee70e079c657eb7": {
          "model_module": "@jupyter-widgets/controls",
          "model_module_version": "1.5.0",
          "model_name": "HTMLModel",
          "state": {
            "_dom_classes": [],
            "_model_module": "@jupyter-widgets/controls",
            "_model_module_version": "1.5.0",
            "_model_name": "HTMLModel",
            "_view_count": null,
            "_view_module": "@jupyter-widgets/controls",
            "_view_module_version": "1.5.0",
            "_view_name": "HTMLView",
            "description": "",
            "description_tooltip": null,
            "layout": "IPY_MODEL_47725f45beb84d23a582f54e1f9506ca",
            "placeholder": "​",
            "style": "IPY_MODEL_d93ca9ed239b46a89f973748f0781ab9",
            "value": " 4000/4000 [00:05&lt;00:00, 735.38 examples/s]"
          }
        },
        "a9e58c1e182d453b8dab9e83b5048ac3": {
          "model_module": "@jupyter-widgets/controls",
          "model_module_version": "1.5.0",
          "model_name": "HTMLModel",
          "state": {
            "_dom_classes": [],
            "_model_module": "@jupyter-widgets/controls",
            "_model_module_version": "1.5.0",
            "_model_name": "HTMLModel",
            "_view_count": null,
            "_view_module": "@jupyter-widgets/controls",
            "_view_module_version": "1.5.0",
            "_view_name": "HTMLView",
            "description": "",
            "description_tooltip": null,
            "layout": "IPY_MODEL_1f505dc61a874e1bad1035552279afba",
            "placeholder": "​",
            "style": "IPY_MODEL_02112cf2f7314ac98ad80157a465f70b",
            "value": " 1000/1000 [00:01&lt;00:00, 705.04 examples/s]"
          }
        },
        "c0b76c810166490ca82cf73bc14beeac": {
          "model_module": "@jupyter-widgets/controls",
          "model_module_version": "1.5.0",
          "model_name": "FloatProgressModel",
          "state": {
            "_dom_classes": [],
            "_model_module": "@jupyter-widgets/controls",
            "_model_module_version": "1.5.0",
            "_model_name": "FloatProgressModel",
            "_view_count": null,
            "_view_module": "@jupyter-widgets/controls",
            "_view_module_version": "1.5.0",
            "_view_name": "ProgressView",
            "bar_style": "success",
            "description": "",
            "description_tooltip": null,
            "layout": "IPY_MODEL_923649ab13c2497f9fd25da9800bd37e",
            "max": 4000,
            "min": 0,
            "orientation": "horizontal",
            "style": "IPY_MODEL_087c83334cf04ec692e4a2bd443bd5d4",
            "value": 4000
          }
        },
        "c2a7553c3ae348cf8136c91e3360985f": {
          "model_module": "@jupyter-widgets/controls",
          "model_module_version": "1.5.0",
          "model_name": "HBoxModel",
          "state": {
            "_dom_classes": [],
            "_model_module": "@jupyter-widgets/controls",
            "_model_module_version": "1.5.0",
            "_model_name": "HBoxModel",
            "_view_count": null,
            "_view_module": "@jupyter-widgets/controls",
            "_view_module_version": "1.5.0",
            "_view_name": "HBoxView",
            "box_style": "",
            "children": [
              "IPY_MODEL_74ecb53b61da468abbbb13bbe1d53081",
              "IPY_MODEL_d296a37f93ea4cd3b0083a60b2bb082f",
              "IPY_MODEL_1e42947c3c6643c59566f23468aceb1c"
            ],
            "layout": "IPY_MODEL_c8ecbbc2fc6040a089ffc61f59a56114"
          }
        },
        "c6450951d65d43a3aec8ed261a55b482": {
          "model_module": "@jupyter-widgets/controls",
          "model_module_version": "1.5.0",
          "model_name": "DescriptionStyleModel",
          "state": {
            "_model_module": "@jupyter-widgets/controls",
            "_model_module_version": "1.5.0",
            "_model_name": "DescriptionStyleModel",
            "_view_count": null,
            "_view_module": "@jupyter-widgets/base",
            "_view_module_version": "1.2.0",
            "_view_name": "StyleView",
            "description_width": ""
          }
        },
        "c8ecbbc2fc6040a089ffc61f59a56114": {
          "model_module": "@jupyter-widgets/base",
          "model_module_version": "1.2.0",
          "model_name": "LayoutModel",
          "state": {
            "_model_module": "@jupyter-widgets/base",
            "_model_module_version": "1.2.0",
            "_model_name": "LayoutModel",
            "_view_count": null,
            "_view_module": "@jupyter-widgets/base",
            "_view_module_version": "1.2.0",
            "_view_name": "LayoutView",
            "align_content": null,
            "align_items": null,
            "align_self": null,
            "border": null,
            "bottom": null,
            "display": null,
            "flex": null,
            "flex_flow": null,
            "grid_area": null,
            "grid_auto_columns": null,
            "grid_auto_flow": null,
            "grid_auto_rows": null,
            "grid_column": null,
            "grid_gap": null,
            "grid_row": null,
            "grid_template_areas": null,
            "grid_template_columns": null,
            "grid_template_rows": null,
            "height": null,
            "justify_content": null,
            "justify_items": null,
            "left": null,
            "margin": null,
            "max_height": null,
            "max_width": null,
            "min_height": null,
            "min_width": null,
            "object_fit": null,
            "object_position": null,
            "order": null,
            "overflow": null,
            "overflow_x": null,
            "overflow_y": null,
            "padding": null,
            "right": null,
            "top": null,
            "visibility": null,
            "width": null
          }
        },
        "d296a37f93ea4cd3b0083a60b2bb082f": {
          "model_module": "@jupyter-widgets/controls",
          "model_module_version": "1.5.0",
          "model_name": "FloatProgressModel",
          "state": {
            "_dom_classes": [],
            "_model_module": "@jupyter-widgets/controls",
            "_model_module_version": "1.5.0",
            "_model_name": "FloatProgressModel",
            "_view_count": null,
            "_view_module": "@jupyter-widgets/controls",
            "_view_module_version": "1.5.0",
            "_view_name": "ProgressView",
            "bar_style": "success",
            "description": "",
            "description_tooltip": null,
            "layout": "IPY_MODEL_fb2e958e85504926a7a6ba04a86c89df",
            "max": 4000,
            "min": 0,
            "orientation": "horizontal",
            "style": "IPY_MODEL_18bcb6d7e3314fe6af3c4e727fd40fb7",
            "value": 4000
          }
        },
        "d93ca9ed239b46a89f973748f0781ab9": {
          "model_module": "@jupyter-widgets/controls",
          "model_module_version": "1.5.0",
          "model_name": "DescriptionStyleModel",
          "state": {
            "_model_module": "@jupyter-widgets/controls",
            "_model_module_version": "1.5.0",
            "_model_name": "DescriptionStyleModel",
            "_view_count": null,
            "_view_module": "@jupyter-widgets/base",
            "_view_module_version": "1.2.0",
            "_view_name": "StyleView",
            "description_width": ""
          }
        },
        "e9dfe740dfdc455c99cd4b783a0a2307": {
          "model_module": "@jupyter-widgets/controls",
          "model_module_version": "1.5.0",
          "model_name": "HBoxModel",
          "state": {
            "_dom_classes": [],
            "_model_module": "@jupyter-widgets/controls",
            "_model_module_version": "1.5.0",
            "_model_name": "HBoxModel",
            "_view_count": null,
            "_view_module": "@jupyter-widgets/controls",
            "_view_module_version": "1.5.0",
            "_view_name": "HBoxView",
            "box_style": "",
            "children": [
              "IPY_MODEL_677c46f058d9408492629f50682b0c32",
              "IPY_MODEL_ea7cfd972281483c926de27ebff15374",
              "IPY_MODEL_82529d4501a8430a8a83ad076feda285"
            ],
            "layout": "IPY_MODEL_03c11d116d244b5ca5ac7709d3ff1a21"
          }
        },
        "ea7cfd972281483c926de27ebff15374": {
          "model_module": "@jupyter-widgets/controls",
          "model_module_version": "1.5.0",
          "model_name": "FloatProgressModel",
          "state": {
            "_dom_classes": [],
            "_model_module": "@jupyter-widgets/controls",
            "_model_module_version": "1.5.0",
            "_model_name": "FloatProgressModel",
            "_view_count": null,
            "_view_module": "@jupyter-widgets/controls",
            "_view_module_version": "1.5.0",
            "_view_name": "ProgressView",
            "bar_style": "success",
            "description": "",
            "description_tooltip": null,
            "layout": "IPY_MODEL_33ef6583ca2d404fbfebe2ed1a71121c",
            "max": 1000,
            "min": 0,
            "orientation": "horizontal",
            "style": "IPY_MODEL_34b0909ffdef4b65a1a4c580f23832c7",
            "value": 1000
          }
        },
        "f8f1c841bbe24911a87b909e9c597915": {
          "model_module": "@jupyter-widgets/base",
          "model_module_version": "1.2.0",
          "model_name": "LayoutModel",
          "state": {
            "_model_module": "@jupyter-widgets/base",
            "_model_module_version": "1.2.0",
            "_model_name": "LayoutModel",
            "_view_count": null,
            "_view_module": "@jupyter-widgets/base",
            "_view_module_version": "1.2.0",
            "_view_name": "LayoutView",
            "align_content": null,
            "align_items": null,
            "align_self": null,
            "border": null,
            "bottom": null,
            "display": null,
            "flex": null,
            "flex_flow": null,
            "grid_area": null,
            "grid_auto_columns": null,
            "grid_auto_flow": null,
            "grid_auto_rows": null,
            "grid_column": null,
            "grid_gap": null,
            "grid_row": null,
            "grid_template_areas": null,
            "grid_template_columns": null,
            "grid_template_rows": null,
            "height": null,
            "justify_content": null,
            "justify_items": null,
            "left": null,
            "margin": null,
            "max_height": null,
            "max_width": null,
            "min_height": null,
            "min_width": null,
            "object_fit": null,
            "object_position": null,
            "order": null,
            "overflow": null,
            "overflow_x": null,
            "overflow_y": null,
            "padding": null,
            "right": null,
            "top": null,
            "visibility": null,
            "width": null
          }
        },
        "fb2e958e85504926a7a6ba04a86c89df": {
          "model_module": "@jupyter-widgets/base",
          "model_module_version": "1.2.0",
          "model_name": "LayoutModel",
          "state": {
            "_model_module": "@jupyter-widgets/base",
            "_model_module_version": "1.2.0",
            "_model_name": "LayoutModel",
            "_view_count": null,
            "_view_module": "@jupyter-widgets/base",
            "_view_module_version": "1.2.0",
            "_view_name": "LayoutView",
            "align_content": null,
            "align_items": null,
            "align_self": null,
            "border": null,
            "bottom": null,
            "display": null,
            "flex": null,
            "flex_flow": null,
            "grid_area": null,
            "grid_auto_columns": null,
            "grid_auto_flow": null,
            "grid_auto_rows": null,
            "grid_column": null,
            "grid_gap": null,
            "grid_row": null,
            "grid_template_areas": null,
            "grid_template_columns": null,
            "grid_template_rows": null,
            "height": null,
            "justify_content": null,
            "justify_items": null,
            "left": null,
            "margin": null,
            "max_height": null,
            "max_width": null,
            "min_height": null,
            "min_width": null,
            "object_fit": null,
            "object_position": null,
            "order": null,
            "overflow": null,
            "overflow_x": null,
            "overflow_y": null,
            "padding": null,
            "right": null,
            "top": null,
            "visibility": null,
            "width": null
          }
        },
        "fe909ad51c074a7fb10e3176b504748e": {
          "model_module": "@jupyter-widgets/controls",
          "model_module_version": "1.5.0",
          "model_name": "FloatProgressModel",
          "state": {
            "_dom_classes": [],
            "_model_module": "@jupyter-widgets/controls",
            "_model_module_version": "1.5.0",
            "_model_name": "FloatProgressModel",
            "_view_count": null,
            "_view_module": "@jupyter-widgets/controls",
            "_view_module_version": "1.5.0",
            "_view_name": "ProgressView",
            "bar_style": "success",
            "description": "",
            "description_tooltip": null,
            "layout": "IPY_MODEL_92910c53b4894992a7791338992b4725",
            "max": 1000,
            "min": 0,
            "orientation": "horizontal",
            "style": "IPY_MODEL_2710d5532ed2411a9531d10d12839e20",
            "value": 1000
          }
        }
      }
    }
  },
  "nbformat": 4,
  "nbformat_minor": 0
}